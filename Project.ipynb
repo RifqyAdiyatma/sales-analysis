{
 "cells": [
  {
   "cell_type": "markdown",
   "id": "c86590ba-4468-4fb7-91fc-329b2cabdd35",
   "metadata": {},
   "source": [
    "## Import Data"
   ]
  },
  {
   "cell_type": "code",
   "execution_count": 1,
   "id": "de63c05d-db70-4f37-b15f-060abf6926cd",
   "metadata": {},
   "outputs": [],
   "source": [
    "import pandas as pd\n",
    "import numpy as np\n",
    "import datetime as dt"
   ]
  },
  {
   "cell_type": "code",
   "execution_count": 251,
   "id": "a5f06593-c69d-4073-969d-8553262f9997",
   "metadata": {},
   "outputs": [
    {
     "data": {
      "text/html": [
       "<div>\n",
       "<style scoped>\n",
       "    .dataframe tbody tr th:only-of-type {\n",
       "        vertical-align: middle;\n",
       "    }\n",
       "\n",
       "    .dataframe tbody tr th {\n",
       "        vertical-align: top;\n",
       "    }\n",
       "\n",
       "    .dataframe thead th {\n",
       "        text-align: right;\n",
       "    }\n",
       "</style>\n",
       "<table border=\"1\" class=\"dataframe\">\n",
       "  <thead>\n",
       "    <tr style=\"text-align: right;\">\n",
       "      <th></th>\n",
       "      <th>order_id</th>\n",
       "      <th>product_code</th>\n",
       "      <th>product_name</th>\n",
       "      <th>quantity</th>\n",
       "      <th>order_date</th>\n",
       "      <th>price</th>\n",
       "      <th>customer_id</th>\n",
       "    </tr>\n",
       "  </thead>\n",
       "  <tbody>\n",
       "    <tr>\n",
       "      <th>0</th>\n",
       "      <td>493410</td>\n",
       "      <td>TEST001</td>\n",
       "      <td>This is a test product.</td>\n",
       "      <td>5</td>\n",
       "      <td>2010-01-04 09:24:00</td>\n",
       "      <td>4.50</td>\n",
       "      <td>12346.0</td>\n",
       "    </tr>\n",
       "    <tr>\n",
       "      <th>1</th>\n",
       "      <td>C493411</td>\n",
       "      <td>21539</td>\n",
       "      <td>RETRO SPOTS BUTTER DISH</td>\n",
       "      <td>-1</td>\n",
       "      <td>2010-01-04 09:43:00</td>\n",
       "      <td>4.25</td>\n",
       "      <td>14590.0</td>\n",
       "    </tr>\n",
       "    <tr>\n",
       "      <th>2</th>\n",
       "      <td>493412</td>\n",
       "      <td>TEST001</td>\n",
       "      <td>This is a test product.</td>\n",
       "      <td>5</td>\n",
       "      <td>2010-01-04 09:53:00</td>\n",
       "      <td>4.50</td>\n",
       "      <td>12346.0</td>\n",
       "    </tr>\n",
       "    <tr>\n",
       "      <th>3</th>\n",
       "      <td>493413</td>\n",
       "      <td>21724</td>\n",
       "      <td>PANDA AND BUNNIES STICKER SHEET</td>\n",
       "      <td>1</td>\n",
       "      <td>2010-01-04 09:54:00</td>\n",
       "      <td>0.85</td>\n",
       "      <td>NaN</td>\n",
       "    </tr>\n",
       "    <tr>\n",
       "      <th>4</th>\n",
       "      <td>493413</td>\n",
       "      <td>84578</td>\n",
       "      <td>ELEPHANT TOY WITH BLUE T-SHIRT</td>\n",
       "      <td>1</td>\n",
       "      <td>2010-01-04 09:54:00</td>\n",
       "      <td>3.75</td>\n",
       "      <td>NaN</td>\n",
       "    </tr>\n",
       "  </tbody>\n",
       "</table>\n",
       "</div>"
      ],
      "text/plain": [
       "  order_id product_code                     product_name  quantity  \\\n",
       "0   493410      TEST001          This is a test product.         5   \n",
       "1  C493411        21539          RETRO SPOTS BUTTER DISH        -1   \n",
       "2   493412      TEST001          This is a test product.         5   \n",
       "3   493413        21724  PANDA AND BUNNIES STICKER SHEET         1   \n",
       "4   493413        84578   ELEPHANT TOY WITH BLUE T-SHIRT         1   \n",
       "\n",
       "            order_date  price  customer_id  \n",
       "0  2010-01-04 09:24:00   4.50      12346.0  \n",
       "1  2010-01-04 09:43:00   4.25      14590.0  \n",
       "2  2010-01-04 09:53:00   4.50      12346.0  \n",
       "3  2010-01-04 09:54:00   0.85          NaN  \n",
       "4  2010-01-04 09:54:00   3.75          NaN  "
      ]
     },
     "execution_count": 251,
     "metadata": {},
     "output_type": "execute_result"
    }
   ],
   "source": [
    "df = pd.read_csv('/Users/rifqyadiyatma/Downloads/OnlineRetailData.csv')\n",
    "\n",
    "df.head()"
   ]
  },
  {
   "cell_type": "code",
   "execution_count": 252,
   "id": "68a71972-20da-436b-a8e0-61a5615b3597",
   "metadata": {},
   "outputs": [
    {
     "data": {
      "text/plain": [
       "(461773, 7)"
      ]
     },
     "execution_count": 252,
     "metadata": {},
     "output_type": "execute_result"
    }
   ],
   "source": [
    "df.shape"
   ]
  },
  {
   "cell_type": "code",
   "execution_count": 253,
   "id": "8ad6e5b6-f291-441d-9d4e-abffbd54c3c1",
   "metadata": {},
   "outputs": [
    {
     "name": "stdout",
     "output_type": "stream",
     "text": [
      "<class 'pandas.core.frame.DataFrame'>\n",
      "RangeIndex: 461773 entries, 0 to 461772\n",
      "Data columns (total 7 columns):\n",
      " #   Column        Non-Null Count   Dtype  \n",
      "---  ------        --------------   -----  \n",
      " 0   order_id      461773 non-null  object \n",
      " 1   product_code  461773 non-null  object \n",
      " 2   product_name  459055 non-null  object \n",
      " 3   quantity      461773 non-null  int64  \n",
      " 4   order_date    461773 non-null  object \n",
      " 5   price         461773 non-null  float64\n",
      " 6   customer_id   360853 non-null  float64\n",
      "dtypes: float64(2), int64(1), object(4)\n",
      "memory usage: 24.7+ MB\n"
     ]
    }
   ],
   "source": [
    "df.info()"
   ]
  },
  {
   "cell_type": "markdown",
   "id": "9ee38a26-5a37-4a34-b422-fb0a834ebd2e",
   "metadata": {},
   "source": [
    "## Data Cleaning"
   ]
  },
  {
   "cell_type": "code",
   "execution_count": 254,
   "id": "6bf18fd2-830e-4a3e-ae45-c15997eb91be",
   "metadata": {},
   "outputs": [
    {
     "data": {
      "text/html": [
       "<div>\n",
       "<style scoped>\n",
       "    .dataframe tbody tr th:only-of-type {\n",
       "        vertical-align: middle;\n",
       "    }\n",
       "\n",
       "    .dataframe tbody tr th {\n",
       "        vertical-align: top;\n",
       "    }\n",
       "\n",
       "    .dataframe thead th {\n",
       "        text-align: right;\n",
       "    }\n",
       "</style>\n",
       "<table border=\"1\" class=\"dataframe\">\n",
       "  <thead>\n",
       "    <tr style=\"text-align: right;\">\n",
       "      <th></th>\n",
       "      <th>order_id</th>\n",
       "      <th>product_code</th>\n",
       "      <th>product_name</th>\n",
       "      <th>quantity</th>\n",
       "      <th>order_date</th>\n",
       "      <th>price</th>\n",
       "      <th>customer_id</th>\n",
       "    </tr>\n",
       "  </thead>\n",
       "  <tbody>\n",
       "    <tr>\n",
       "      <th>0</th>\n",
       "      <td>493410</td>\n",
       "      <td>TEST001</td>\n",
       "      <td>This is a test product.</td>\n",
       "      <td>5</td>\n",
       "      <td>2010-01-04 09:24:00</td>\n",
       "      <td>4.50</td>\n",
       "      <td>12346.0</td>\n",
       "    </tr>\n",
       "    <tr>\n",
       "      <th>1</th>\n",
       "      <td>C493411</td>\n",
       "      <td>21539</td>\n",
       "      <td>RETRO SPOTS BUTTER DISH</td>\n",
       "      <td>-1</td>\n",
       "      <td>2010-01-04 09:43:00</td>\n",
       "      <td>4.25</td>\n",
       "      <td>14590.0</td>\n",
       "    </tr>\n",
       "    <tr>\n",
       "      <th>2</th>\n",
       "      <td>493412</td>\n",
       "      <td>TEST001</td>\n",
       "      <td>This is a test product.</td>\n",
       "      <td>5</td>\n",
       "      <td>2010-01-04 09:53:00</td>\n",
       "      <td>4.50</td>\n",
       "      <td>12346.0</td>\n",
       "    </tr>\n",
       "    <tr>\n",
       "      <th>3</th>\n",
       "      <td>493413</td>\n",
       "      <td>21724</td>\n",
       "      <td>PANDA AND BUNNIES STICKER SHEET</td>\n",
       "      <td>1</td>\n",
       "      <td>2010-01-04 09:54:00</td>\n",
       "      <td>0.85</td>\n",
       "      <td>NaN</td>\n",
       "    </tr>\n",
       "    <tr>\n",
       "      <th>4</th>\n",
       "      <td>493413</td>\n",
       "      <td>84578</td>\n",
       "      <td>ELEPHANT TOY WITH BLUE T-SHIRT</td>\n",
       "      <td>1</td>\n",
       "      <td>2010-01-04 09:54:00</td>\n",
       "      <td>3.75</td>\n",
       "      <td>NaN</td>\n",
       "    </tr>\n",
       "  </tbody>\n",
       "</table>\n",
       "</div>"
      ],
      "text/plain": [
       "  order_id product_code                     product_name  quantity  \\\n",
       "0   493410      TEST001          This is a test product.         5   \n",
       "1  C493411        21539          RETRO SPOTS BUTTER DISH        -1   \n",
       "2   493412      TEST001          This is a test product.         5   \n",
       "3   493413        21724  PANDA AND BUNNIES STICKER SHEET         1   \n",
       "4   493413        84578   ELEPHANT TOY WITH BLUE T-SHIRT         1   \n",
       "\n",
       "            order_date  price  customer_id  \n",
       "0  2010-01-04 09:24:00   4.50      12346.0  \n",
       "1  2010-01-04 09:43:00   4.25      14590.0  \n",
       "2  2010-01-04 09:53:00   4.50      12346.0  \n",
       "3  2010-01-04 09:54:00   0.85          NaN  \n",
       "4  2010-01-04 09:54:00   3.75          NaN  "
      ]
     },
     "execution_count": 254,
     "metadata": {},
     "output_type": "execute_result"
    }
   ],
   "source": [
    "df.head()"
   ]
  },
  {
   "cell_type": "code",
   "execution_count": 255,
   "id": "eec2672d-00e7-4118-a4e7-57ff14fa9f0c",
   "metadata": {},
   "outputs": [
    {
     "data": {
      "text/html": [
       "<div>\n",
       "<style scoped>\n",
       "    .dataframe tbody tr th:only-of-type {\n",
       "        vertical-align: middle;\n",
       "    }\n",
       "\n",
       "    .dataframe tbody tr th {\n",
       "        vertical-align: top;\n",
       "    }\n",
       "\n",
       "    .dataframe thead th {\n",
       "        text-align: right;\n",
       "    }\n",
       "</style>\n",
       "<table border=\"1\" class=\"dataframe\">\n",
       "  <thead>\n",
       "    <tr style=\"text-align: right;\">\n",
       "      <th></th>\n",
       "      <th>order_id</th>\n",
       "      <th>product_code</th>\n",
       "      <th>product_name</th>\n",
       "      <th>quantity</th>\n",
       "      <th>order_date</th>\n",
       "      <th>price</th>\n",
       "      <th>customer_id</th>\n",
       "      <th>year_month</th>\n",
       "      <th>order_status</th>\n",
       "    </tr>\n",
       "  </thead>\n",
       "  <tbody>\n",
       "    <tr>\n",
       "      <th>1</th>\n",
       "      <td>C493411</td>\n",
       "      <td>21539</td>\n",
       "      <td>retro spots butter dish</td>\n",
       "      <td>1</td>\n",
       "      <td>2010-01-04 09:43:00</td>\n",
       "      <td>4.25</td>\n",
       "      <td>14590.0</td>\n",
       "      <td>2010-01</td>\n",
       "      <td>Cancelled</td>\n",
       "    </tr>\n",
       "    <tr>\n",
       "      <th>6</th>\n",
       "      <td>493414</td>\n",
       "      <td>21844</td>\n",
       "      <td>retro spot mug</td>\n",
       "      <td>36</td>\n",
       "      <td>2010-01-04 10:28:00</td>\n",
       "      <td>2.55</td>\n",
       "      <td>14590.0</td>\n",
       "      <td>2010-01</td>\n",
       "      <td>Delivered</td>\n",
       "    </tr>\n",
       "    <tr>\n",
       "      <th>7</th>\n",
       "      <td>493414</td>\n",
       "      <td>21533</td>\n",
       "      <td>retro spot large milk jug</td>\n",
       "      <td>12</td>\n",
       "      <td>2010-01-04 10:28:00</td>\n",
       "      <td>4.25</td>\n",
       "      <td>14590.0</td>\n",
       "      <td>2010-01</td>\n",
       "      <td>Delivered</td>\n",
       "    </tr>\n",
       "    <tr>\n",
       "      <th>8</th>\n",
       "      <td>493414</td>\n",
       "      <td>37508</td>\n",
       "      <td>new england ceramic cake server</td>\n",
       "      <td>2</td>\n",
       "      <td>2010-01-04 10:28:00</td>\n",
       "      <td>2.55</td>\n",
       "      <td>14590.0</td>\n",
       "      <td>2010-01</td>\n",
       "      <td>Delivered</td>\n",
       "    </tr>\n",
       "    <tr>\n",
       "      <th>9</th>\n",
       "      <td>493414</td>\n",
       "      <td>35001G</td>\n",
       "      <td>hand open shape gold</td>\n",
       "      <td>2</td>\n",
       "      <td>2010-01-04 10:28:00</td>\n",
       "      <td>4.25</td>\n",
       "      <td>14590.0</td>\n",
       "      <td>2010-01</td>\n",
       "      <td>Delivered</td>\n",
       "    </tr>\n",
       "  </tbody>\n",
       "</table>\n",
       "</div>"
      ],
      "text/plain": [
       "  order_id product_code                     product_name  quantity  \\\n",
       "1  C493411        21539          retro spots butter dish         1   \n",
       "6   493414        21844                   retro spot mug        36   \n",
       "7   493414        21533        retro spot large milk jug        12   \n",
       "8   493414        37508  new england ceramic cake server         2   \n",
       "9   493414       35001G             hand open shape gold         2   \n",
       "\n",
       "           order_date  price  customer_id year_month order_status  \n",
       "1 2010-01-04 09:43:00   4.25      14590.0    2010-01    Cancelled  \n",
       "6 2010-01-04 10:28:00   2.55      14590.0    2010-01    Delivered  \n",
       "7 2010-01-04 10:28:00   4.25      14590.0    2010-01    Delivered  \n",
       "8 2010-01-04 10:28:00   2.55      14590.0    2010-01    Delivered  \n",
       "9 2010-01-04 10:28:00   4.25      14590.0    2010-01    Delivered  "
      ]
     },
     "execution_count": 255,
     "metadata": {},
     "output_type": "execute_result"
    }
   ],
   "source": [
    "clean_df = df.copy()\n",
    "\n",
    "# Remove missing value in product name\n",
    "clean_df= clean_df[~clean_df['product_name'].isna()]\n",
    "\n",
    "# Change date type using datetime package\n",
    "# clean_df['order_date'] = df['order_date'].astype('datetime64[ns]')\n",
    "clean_df['order_date'] = pd.to_datetime(clean_df['order_date'], errors='coerce')\n",
    "\n",
    "#Remove missing customer id\n",
    "clean_df = clean_df[~clean_df['customer_id'].isna()]\n",
    "\n",
    "# Make new column to create year and month period\n",
    "clean_df['year_month'] = clean_df['order_date'].dt.to_period('M')\n",
    "\n",
    "# Make all product name in lowercase\n",
    "clean_df['product_name'] = clean_df['product_name'].str.lower()\n",
    "\n",
    "# Remove all product name and product code that contain \"TEST\"\n",
    "clean_df = clean_df[(~clean_df['product_code'].str.lower().str.contains('test')) | \n",
    "                    (~clean_df['product_name'].str.contains('test '))]\n",
    "\n",
    "# Make a new column to see all order status, if the order_id begin with C then it's cancelled the other is delivered\n",
    "clean_df['order_status'] = np.where(clean_df['order_id'].str[:1] == 'C', 'Cancelled', 'Delivered')\n",
    "\n",
    "# Change quantity with minus value\n",
    "clean_df['quantity'] = clean_df['quantity'].abs()\n",
    "\n",
    "clean_df.head()"
   ]
  },
  {
   "cell_type": "code",
   "execution_count": 256,
   "id": "07a9059e-79c4-4093-9c65-591f2c850cb0",
   "metadata": {},
   "outputs": [
    {
     "data": {
      "text/html": [
       "<div>\n",
       "<style scoped>\n",
       "    .dataframe tbody tr th:only-of-type {\n",
       "        vertical-align: middle;\n",
       "    }\n",
       "\n",
       "    .dataframe tbody tr th {\n",
       "        vertical-align: top;\n",
       "    }\n",
       "\n",
       "    .dataframe thead th {\n",
       "        text-align: right;\n",
       "    }\n",
       "</style>\n",
       "<table border=\"1\" class=\"dataframe\">\n",
       "  <thead>\n",
       "    <tr style=\"text-align: right;\">\n",
       "      <th></th>\n",
       "      <th>order_id</th>\n",
       "      <th>product_code</th>\n",
       "      <th>product_name</th>\n",
       "      <th>quantity</th>\n",
       "      <th>order_date</th>\n",
       "      <th>price</th>\n",
       "      <th>customer_id</th>\n",
       "      <th>year_month</th>\n",
       "      <th>order_status</th>\n",
       "      <th>amount</th>\n",
       "    </tr>\n",
       "  </thead>\n",
       "  <tbody>\n",
       "    <tr>\n",
       "      <th>0</th>\n",
       "      <td>C493411</td>\n",
       "      <td>21539</td>\n",
       "      <td>red retrospot butter dish</td>\n",
       "      <td>1</td>\n",
       "      <td>2010-01-04</td>\n",
       "      <td>4.25</td>\n",
       "      <td>14590.0</td>\n",
       "      <td>2010-01</td>\n",
       "      <td>Cancelled</td>\n",
       "      <td>4.25</td>\n",
       "    </tr>\n",
       "    <tr>\n",
       "      <th>1</th>\n",
       "      <td>493414</td>\n",
       "      <td>21844</td>\n",
       "      <td>red retrospot mug</td>\n",
       "      <td>36</td>\n",
       "      <td>2010-01-04</td>\n",
       "      <td>2.55</td>\n",
       "      <td>14590.0</td>\n",
       "      <td>2010-01</td>\n",
       "      <td>Delivered</td>\n",
       "      <td>91.80</td>\n",
       "    </tr>\n",
       "    <tr>\n",
       "      <th>2</th>\n",
       "      <td>493414</td>\n",
       "      <td>21533</td>\n",
       "      <td>retro spot large milk jug</td>\n",
       "      <td>12</td>\n",
       "      <td>2010-01-04</td>\n",
       "      <td>4.25</td>\n",
       "      <td>14590.0</td>\n",
       "      <td>2010-01</td>\n",
       "      <td>Delivered</td>\n",
       "      <td>51.00</td>\n",
       "    </tr>\n",
       "    <tr>\n",
       "      <th>3</th>\n",
       "      <td>493414</td>\n",
       "      <td>37508</td>\n",
       "      <td>new england ceramic cake server</td>\n",
       "      <td>2</td>\n",
       "      <td>2010-01-04</td>\n",
       "      <td>2.55</td>\n",
       "      <td>14590.0</td>\n",
       "      <td>2010-01</td>\n",
       "      <td>Delivered</td>\n",
       "      <td>5.10</td>\n",
       "    </tr>\n",
       "    <tr>\n",
       "      <th>4</th>\n",
       "      <td>493414</td>\n",
       "      <td>35001G</td>\n",
       "      <td>hand open shape gold</td>\n",
       "      <td>2</td>\n",
       "      <td>2010-01-04</td>\n",
       "      <td>4.25</td>\n",
       "      <td>14590.0</td>\n",
       "      <td>2010-01</td>\n",
       "      <td>Delivered</td>\n",
       "      <td>8.50</td>\n",
       "    </tr>\n",
       "    <tr>\n",
       "      <th>...</th>\n",
       "      <td>...</td>\n",
       "      <td>...</td>\n",
       "      <td>...</td>\n",
       "      <td>...</td>\n",
       "      <td>...</td>\n",
       "      <td>...</td>\n",
       "      <td>...</td>\n",
       "      <td>...</td>\n",
       "      <td>...</td>\n",
       "      <td>...</td>\n",
       "    </tr>\n",
       "    <tr>\n",
       "      <th>358464</th>\n",
       "      <td>539988</td>\n",
       "      <td>84380</td>\n",
       "      <td>set of 3 butterfly cookie cutters</td>\n",
       "      <td>1</td>\n",
       "      <td>2010-12-23</td>\n",
       "      <td>1.25</td>\n",
       "      <td>18116.0</td>\n",
       "      <td>2010-12</td>\n",
       "      <td>Delivered</td>\n",
       "      <td>1.25</td>\n",
       "    </tr>\n",
       "    <tr>\n",
       "      <th>358465</th>\n",
       "      <td>539988</td>\n",
       "      <td>84849D</td>\n",
       "      <td>hot baths soap holder</td>\n",
       "      <td>1</td>\n",
       "      <td>2010-12-23</td>\n",
       "      <td>1.69</td>\n",
       "      <td>18116.0</td>\n",
       "      <td>2010-12</td>\n",
       "      <td>Delivered</td>\n",
       "      <td>1.69</td>\n",
       "    </tr>\n",
       "    <tr>\n",
       "      <th>358466</th>\n",
       "      <td>539988</td>\n",
       "      <td>84849B</td>\n",
       "      <td>fairy soap soap holder</td>\n",
       "      <td>1</td>\n",
       "      <td>2010-12-23</td>\n",
       "      <td>1.69</td>\n",
       "      <td>18116.0</td>\n",
       "      <td>2010-12</td>\n",
       "      <td>Delivered</td>\n",
       "      <td>1.69</td>\n",
       "    </tr>\n",
       "    <tr>\n",
       "      <th>358467</th>\n",
       "      <td>539988</td>\n",
       "      <td>22854</td>\n",
       "      <td>cream sweetheart egg holder</td>\n",
       "      <td>2</td>\n",
       "      <td>2010-12-23</td>\n",
       "      <td>4.95</td>\n",
       "      <td>18116.0</td>\n",
       "      <td>2010-12</td>\n",
       "      <td>Delivered</td>\n",
       "      <td>9.90</td>\n",
       "    </tr>\n",
       "    <tr>\n",
       "      <th>358468</th>\n",
       "      <td>539988</td>\n",
       "      <td>47559B</td>\n",
       "      <td>tea time oven glove</td>\n",
       "      <td>2</td>\n",
       "      <td>2010-12-23</td>\n",
       "      <td>1.25</td>\n",
       "      <td>18116.0</td>\n",
       "      <td>2010-12</td>\n",
       "      <td>Delivered</td>\n",
       "      <td>2.50</td>\n",
       "    </tr>\n",
       "  </tbody>\n",
       "</table>\n",
       "<p>358469 rows × 10 columns</p>\n",
       "</div>"
      ],
      "text/plain": [
       "       order_id product_code                       product_name  quantity  \\\n",
       "0       C493411        21539          red retrospot butter dish         1   \n",
       "1        493414        21844                  red retrospot mug        36   \n",
       "2        493414        21533          retro spot large milk jug        12   \n",
       "3        493414        37508    new england ceramic cake server         2   \n",
       "4        493414       35001G               hand open shape gold         2   \n",
       "...         ...          ...                                ...       ...   \n",
       "358464   539988        84380  set of 3 butterfly cookie cutters         1   \n",
       "358465   539988       84849D              hot baths soap holder         1   \n",
       "358466   539988       84849B             fairy soap soap holder         1   \n",
       "358467   539988        22854        cream sweetheart egg holder         2   \n",
       "358468   539988       47559B                tea time oven glove         2   \n",
       "\n",
       "        order_date  price customer_id year_month order_status  amount  \n",
       "0       2010-01-04   4.25     14590.0    2010-01    Cancelled    4.25  \n",
       "1       2010-01-04   2.55     14590.0    2010-01    Delivered   91.80  \n",
       "2       2010-01-04   4.25     14590.0    2010-01    Delivered   51.00  \n",
       "3       2010-01-04   2.55     14590.0    2010-01    Delivered    5.10  \n",
       "4       2010-01-04   4.25     14590.0    2010-01    Delivered    8.50  \n",
       "...            ...    ...         ...        ...          ...     ...  \n",
       "358464  2010-12-23   1.25     18116.0    2010-12    Delivered    1.25  \n",
       "358465  2010-12-23   1.69     18116.0    2010-12    Delivered    1.69  \n",
       "358466  2010-12-23   1.69     18116.0    2010-12    Delivered    1.69  \n",
       "358467  2010-12-23   4.95     18116.0    2010-12    Delivered    9.90  \n",
       "358468  2010-12-23   1.25     18116.0    2010-12    Delivered    2.50  \n",
       "\n",
       "[358469 rows x 10 columns]"
      ]
     },
     "execution_count": 256,
     "metadata": {},
     "output_type": "execute_result"
    }
   ],
   "source": [
    "# Remove price that have minus value\n",
    "clean_df = clean_df[clean_df['price'] > 0]\n",
    "\n",
    "# Create new columns to count total amount of the order\n",
    "clean_df['amount'] = clean_df['quantity'] * clean_df['price']\n",
    "\n",
    "#Remove time from order_date\n",
    "clean_df['order_date'] = pd.to_datetime(clean_df['order_date'], errors='coerce').dt.date\n",
    "\n",
    "# Change product name that have the same product code with other product name\n",
    "most_freq_product_name = clean_df.groupby(['product_code','product_name'], as_index=False).agg(order_cnt=('order_id','nunique')).sort_values(['product_code','order_cnt'], ascending=[True,False])\n",
    "most_freq_product_name['rank'] = most_freq_product_name.groupby('product_code')['order_cnt'].rank(method = 'first', ascending = False)\n",
    "most_freq_product_name = most_freq_product_name[most_freq_product_name['rank'] == 1].drop(columns = ['order_cnt', 'rank'])\n",
    "clean_df = clean_df.merge(most_freq_product_name.rename(columns = {'product_name' : 'most_freq_product_name'}), how = 'left', on = 'product_code')\n",
    "clean_df['product_name'] = clean_df['most_freq_product_name']\n",
    "clean_df = clean_df.drop(columns = 'most_freq_product_name')\n",
    "\n",
    "# Change customer_id type to string\n",
    "clean_df['customer_id'] = clean_df['customer_id'].astype(str)\n",
    "\n",
    "# Remove Outliers\n",
    "from scipy import stats\n",
    "clean_df = clean_df[(np.abs(stats.zscore(clean_df[['quantity', 'amount']])) < 3).all(axis = 1)]\n",
    "\n",
    "clean_df = clean_df.reset_index(drop = True)\n",
    "\n",
    "clean_df"
   ]
  },
  {
   "cell_type": "markdown",
   "id": "515413be-f680-410f-90fc-f6234ae4e703",
   "metadata": {},
   "source": [
    "## Exploratory Data Analysis "
   ]
  },
  {
   "cell_type": "code",
   "execution_count": 257,
   "id": "acab65c6-c45b-4ed9-bf6f-c504d54300ac",
   "metadata": {},
   "outputs": [
    {
     "data": {
      "text/plain": [
       "(358469, 10)"
      ]
     },
     "execution_count": 257,
     "metadata": {},
     "output_type": "execute_result"
    }
   ],
   "source": [
    "df = clean_df.copy()\n",
    "\n",
    "df.shape"
   ]
  },
  {
   "cell_type": "code",
   "execution_count": 258,
   "id": "1fcd95f4-512d-43f3-93f7-3771c5a1ddc9",
   "metadata": {},
   "outputs": [
    {
     "name": "stdout",
     "output_type": "stream",
     "text": [
      "<class 'pandas.core.frame.DataFrame'>\n",
      "RangeIndex: 358469 entries, 0 to 358468\n",
      "Data columns (total 10 columns):\n",
      " #   Column        Non-Null Count   Dtype    \n",
      "---  ------        --------------   -----    \n",
      " 0   order_id      358469 non-null  object   \n",
      " 1   product_code  358469 non-null  object   \n",
      " 2   product_name  358469 non-null  object   \n",
      " 3   quantity      358469 non-null  int64    \n",
      " 4   order_date    358469 non-null  object   \n",
      " 5   price         358469 non-null  float64  \n",
      " 6   customer_id   358469 non-null  object   \n",
      " 7   year_month    358469 non-null  period[M]\n",
      " 8   order_status  358469 non-null  object   \n",
      " 9   amount        358469 non-null  float64  \n",
      "dtypes: float64(2), int64(1), object(6), period[M](1)\n",
      "memory usage: 27.3+ MB\n"
     ]
    }
   ],
   "source": [
    "df.info()"
   ]
  },
  {
   "cell_type": "code",
   "execution_count": 259,
   "id": "9c3ba20d-edee-432c-a892-820cbfd3e70b",
   "metadata": {},
   "outputs": [
    {
     "data": {
      "text/html": [
       "<div>\n",
       "<style scoped>\n",
       "    .dataframe tbody tr th:only-of-type {\n",
       "        vertical-align: middle;\n",
       "    }\n",
       "\n",
       "    .dataframe tbody tr th {\n",
       "        vertical-align: top;\n",
       "    }\n",
       "\n",
       "    .dataframe thead th {\n",
       "        text-align: right;\n",
       "    }\n",
       "</style>\n",
       "<table border=\"1\" class=\"dataframe\">\n",
       "  <thead>\n",
       "    <tr style=\"text-align: right;\">\n",
       "      <th></th>\n",
       "      <th>quantity</th>\n",
       "      <th>price</th>\n",
       "      <th>amount</th>\n",
       "    </tr>\n",
       "  </thead>\n",
       "  <tbody>\n",
       "    <tr>\n",
       "      <th>count</th>\n",
       "      <td>358469.000000</td>\n",
       "      <td>358469.000000</td>\n",
       "      <td>358469.000000</td>\n",
       "    </tr>\n",
       "    <tr>\n",
       "      <th>mean</th>\n",
       "      <td>9.362754</td>\n",
       "      <td>3.087634</td>\n",
       "      <td>16.757486</td>\n",
       "    </tr>\n",
       "    <tr>\n",
       "      <th>std</th>\n",
       "      <td>16.288556</td>\n",
       "      <td>5.502037</td>\n",
       "      <td>25.312974</td>\n",
       "    </tr>\n",
       "    <tr>\n",
       "      <th>min</th>\n",
       "      <td>1.000000</td>\n",
       "      <td>0.001000</td>\n",
       "      <td>0.001000</td>\n",
       "    </tr>\n",
       "    <tr>\n",
       "      <th>25%</th>\n",
       "      <td>2.000000</td>\n",
       "      <td>1.250000</td>\n",
       "      <td>4.200000</td>\n",
       "    </tr>\n",
       "    <tr>\n",
       "      <th>50%</th>\n",
       "      <td>4.000000</td>\n",
       "      <td>1.950000</td>\n",
       "      <td>10.200000</td>\n",
       "    </tr>\n",
       "    <tr>\n",
       "      <th>75%</th>\n",
       "      <td>12.000000</td>\n",
       "      <td>3.750000</td>\n",
       "      <td>17.700000</td>\n",
       "    </tr>\n",
       "    <tr>\n",
       "      <th>max</th>\n",
       "      <td>216.000000</td>\n",
       "      <td>311.990000</td>\n",
       "      <td>313.200000</td>\n",
       "    </tr>\n",
       "  </tbody>\n",
       "</table>\n",
       "</div>"
      ],
      "text/plain": [
       "            quantity          price         amount\n",
       "count  358469.000000  358469.000000  358469.000000\n",
       "mean        9.362754       3.087634      16.757486\n",
       "std        16.288556       5.502037      25.312974\n",
       "min         1.000000       0.001000       0.001000\n",
       "25%         2.000000       1.250000       4.200000\n",
       "50%         4.000000       1.950000      10.200000\n",
       "75%        12.000000       3.750000      17.700000\n",
       "max       216.000000     311.990000     313.200000"
      ]
     },
     "execution_count": 259,
     "metadata": {},
     "output_type": "execute_result"
    }
   ],
   "source": [
    "df.describe()"
   ]
  },
  {
   "cell_type": "markdown",
   "id": "1052567a-8a9e-4b42-9708-3e8dc76e8629",
   "metadata": {},
   "source": [
    "#### Order Id"
   ]
  },
  {
   "cell_type": "code",
   "execution_count": 260,
   "id": "56e9d7a2-58dc-4001-9761-7f768826efb9",
   "metadata": {},
   "outputs": [
    {
     "data": {
      "text/plain": [
       "358469"
      ]
     },
     "execution_count": 260,
     "metadata": {},
     "output_type": "execute_result"
    }
   ],
   "source": [
    "df['order_id'].count()"
   ]
  },
  {
   "cell_type": "code",
   "execution_count": 261,
   "id": "107618f2-ed31-4147-8430-97f5e9ac76e0",
   "metadata": {},
   "outputs": [
    {
     "data": {
      "text/plain": [
       "19945"
      ]
     },
     "execution_count": 261,
     "metadata": {},
     "output_type": "execute_result"
    }
   ],
   "source": [
    "#see how many unique order id\n",
    "df['order_id'].nunique()"
   ]
  },
  {
   "cell_type": "markdown",
   "id": "513a973e-51e8-4655-9b0c-9cf148ee48c2",
   "metadata": {},
   "source": [
    "#### Quantity"
   ]
  },
  {
   "cell_type": "code",
   "execution_count": 262,
   "id": "1dec669b-5f34-4610-9c76-70fab2f7fdb9",
   "metadata": {},
   "outputs": [
    {
     "data": {
      "text/plain": [
       "3356257"
      ]
     },
     "execution_count": 262,
     "metadata": {},
     "output_type": "execute_result"
    }
   ],
   "source": [
    "# Quantity items sold\n",
    "df['quantity'].sum()"
   ]
  },
  {
   "cell_type": "code",
   "execution_count": 263,
   "id": "a01929f3-a41e-4640-b358-41d1a5789090",
   "metadata": {},
   "outputs": [
    {
     "data": {
      "text/plain": [
       "9.362753822506269"
      ]
     },
     "execution_count": 263,
     "metadata": {},
     "output_type": "execute_result"
    }
   ],
   "source": [
    "# Average of Quantity Column\n",
    "df['quantity'].mean()"
   ]
  },
  {
   "cell_type": "code",
   "execution_count": 264,
   "id": "ab59d10e-e5db-4f23-add9-03113660c178",
   "metadata": {},
   "outputs": [
    {
     "data": {
      "text/plain": [
       "4.0"
      ]
     },
     "execution_count": 264,
     "metadata": {},
     "output_type": "execute_result"
    }
   ],
   "source": [
    "# Median\n",
    "df['quantity'].median()"
   ]
  },
  {
   "cell_type": "code",
   "execution_count": 265,
   "id": "231c20ec-43e3-471b-8e7f-8ab48ba8ce54",
   "metadata": {},
   "outputs": [
    {
     "data": {
      "text/plain": [
       "1"
      ]
     },
     "execution_count": 265,
     "metadata": {},
     "output_type": "execute_result"
    }
   ],
   "source": [
    "#Mode\n",
    "df['quantity'].mode()[0]"
   ]
  },
  {
   "cell_type": "markdown",
   "id": "38959607-0213-41db-b315-3ff6bd6ebf33",
   "metadata": {},
   "source": [
    "#### Product Name (tea)"
   ]
  },
  {
   "cell_type": "code",
   "execution_count": 266,
   "id": "ea3a596b-0ae5-4cb1-86f2-c0dd9cf9ddb9",
   "metadata": {},
   "outputs": [
    {
     "data": {
      "text/plain": [
       "125597"
      ]
     },
     "execution_count": 266,
     "metadata": {},
     "output_type": "execute_result"
    }
   ],
   "source": [
    "# How many teas sold\n",
    "df.loc[df['product_name'].str.contains('tea'), 'quantity'].sum()"
   ]
  },
  {
   "cell_type": "code",
   "execution_count": 267,
   "id": "95fce75d-b85c-4f44-8720-00319399237a",
   "metadata": {},
   "outputs": [
    {
     "data": {
      "text/plain": [
       "9.335984538764588"
      ]
     },
     "execution_count": 267,
     "metadata": {},
     "output_type": "execute_result"
    }
   ],
   "source": [
    "# Average tea sold\n",
    "df.loc[df['product_name'].str.contains('tea'), 'quantity'].mean()"
   ]
  },
  {
   "cell_type": "code",
   "execution_count": 268,
   "id": "4aa1555a-dd18-43f2-a0ec-ba1f3e33e589",
   "metadata": {},
   "outputs": [
    {
     "data": {
      "text/plain": [
       "4.0"
      ]
     },
     "execution_count": 268,
     "metadata": {},
     "output_type": "execute_result"
    }
   ],
   "source": [
    "#Median\n",
    "df.loc[df['product_name'].str.contains('tea'), 'quantity'].median()"
   ]
  },
  {
   "cell_type": "code",
   "execution_count": 269,
   "id": "84ab0900-d3b0-443b-a1cc-ef867170247b",
   "metadata": {},
   "outputs": [
    {
     "data": {
      "text/plain": [
       "1"
      ]
     },
     "execution_count": 269,
     "metadata": {},
     "output_type": "execute_result"
    }
   ],
   "source": [
    "#mode\n",
    "df.loc[df['product_name'].str.contains('tea'), 'quantity'].mode()[0]"
   ]
  },
  {
   "cell_type": "markdown",
   "id": "867c30a3-0623-4bf6-bac2-cc840382bfcb",
   "metadata": {},
   "source": [
    "#### Product Name (coffee)"
   ]
  },
  {
   "cell_type": "code",
   "execution_count": 270,
   "id": "e9c5793d-c71b-4ef1-91e7-95f1a8c454a8",
   "metadata": {},
   "outputs": [
    {
     "data": {
      "text/plain": [
       "16500"
      ]
     },
     "execution_count": 270,
     "metadata": {},
     "output_type": "execute_result"
    }
   ],
   "source": [
    "# How many coffees sold\n",
    "df.loc[df['product_name'].str.contains('coffee'), 'quantity'].sum()"
   ]
  },
  {
   "cell_type": "code",
   "execution_count": 271,
   "id": "8eaf9e8a-4a0a-4d81-89ea-0be2f3bbcedd",
   "metadata": {},
   "outputs": [
    {
     "data": {
      "text/plain": [
       "8.620689655172415"
      ]
     },
     "execution_count": 271,
     "metadata": {},
     "output_type": "execute_result"
    }
   ],
   "source": [
    "# Average Coffees Sold\n",
    "df.loc[df['product_name'].str.contains('coffee'), 'quantity'].mean()"
   ]
  },
  {
   "cell_type": "code",
   "execution_count": 272,
   "id": "f5b8225b-6d84-4b08-ae99-89086191cd1d",
   "metadata": {},
   "outputs": [
    {
     "data": {
      "text/plain": [
       "6.0"
      ]
     },
     "execution_count": 272,
     "metadata": {},
     "output_type": "execute_result"
    }
   ],
   "source": [
    "# Median\n",
    "df.loc[df['product_name'].str.contains('coffee'), 'quantity'].median()"
   ]
  },
  {
   "cell_type": "code",
   "execution_count": 273,
   "id": "b3b04338-5794-48b5-bdcd-b289f6b4b033",
   "metadata": {},
   "outputs": [
    {
     "data": {
      "text/plain": [
       "6"
      ]
     },
     "execution_count": 273,
     "metadata": {},
     "output_type": "execute_result"
    }
   ],
   "source": [
    "# Mode\n",
    "df.loc[df['product_name'].str.contains('coffee'), 'quantity'].mode()[0]"
   ]
  },
  {
   "cell_type": "markdown",
   "id": "5abfcb10-5a8f-4497-8a3e-83bff9024ed5",
   "metadata": {},
   "source": [
    "#### Quartile"
   ]
  },
  {
   "cell_type": "markdown",
   "id": "eeaa4128-e984-4309-84da-158664d95d3a",
   "metadata": {},
   "source": [
    "##### Quantity"
   ]
  },
  {
   "cell_type": "code",
   "execution_count": 274,
   "id": "11d0b41a-36fb-4017-beb9-8069da3f9a3f",
   "metadata": {},
   "outputs": [
    {
     "data": {
      "text/plain": [
       "2.0"
      ]
     },
     "execution_count": 274,
     "metadata": {},
     "output_type": "execute_result"
    }
   ],
   "source": [
    "# Q1\n",
    "df['quantity'].quantile(.25)"
   ]
  },
  {
   "cell_type": "code",
   "execution_count": 275,
   "id": "bc4f9f9c-1054-49d1-975c-2456f07aac9d",
   "metadata": {},
   "outputs": [
    {
     "data": {
      "text/plain": [
       "12.0"
      ]
     },
     "execution_count": 275,
     "metadata": {},
     "output_type": "execute_result"
    }
   ],
   "source": [
    "# Q3\n",
    "df['quantity'].quantile(.75)"
   ]
  },
  {
   "cell_type": "code",
   "execution_count": 276,
   "id": "8659eb10-0a24-447b-af90-159a9c43ae81",
   "metadata": {},
   "outputs": [],
   "source": [
    "# Create a function to find interquartile range\n",
    "\n",
    "def inter_q(x):\n",
    "    q1 = x.quantile(0.25)\n",
    "    q3 = x.quantile(0.75)\n",
    "    return q3 - q1"
   ]
  },
  {
   "cell_type": "code",
   "execution_count": 277,
   "id": "2e2f56ca-1483-499b-836d-4c01b90caf68",
   "metadata": {},
   "outputs": [
    {
     "data": {
      "text/plain": [
       "10.0"
      ]
     },
     "execution_count": 277,
     "metadata": {},
     "output_type": "execute_result"
    }
   ],
   "source": [
    "# Interquartile Range of Quantity\n",
    "\n",
    "inter_q(df['quantity'])"
   ]
  },
  {
   "cell_type": "markdown",
   "id": "22ce6fa0-2299-4a2d-be71-014cb7b26ba5",
   "metadata": {},
   "source": [
    "##### Product Name (tea)"
   ]
  },
  {
   "cell_type": "code",
   "execution_count": 278,
   "id": "36e43482-2ca3-41ef-9d07-01fb371ca4f7",
   "metadata": {},
   "outputs": [
    {
     "data": {
      "text/plain": [
       "2.0"
      ]
     },
     "execution_count": 278,
     "metadata": {},
     "output_type": "execute_result"
    }
   ],
   "source": [
    "df.loc[df['product_name'].str.contains('tea'), 'quantity'].quantile(.25)"
   ]
  },
  {
   "cell_type": "code",
   "execution_count": 279,
   "id": "a50e21a6-737b-4964-8fea-de76b6500c95",
   "metadata": {},
   "outputs": [
    {
     "data": {
      "text/plain": [
       "12.0"
      ]
     },
     "execution_count": 279,
     "metadata": {},
     "output_type": "execute_result"
    }
   ],
   "source": [
    "df.loc[df['product_name'].str.contains('tea'), 'quantity'].quantile(.75)"
   ]
  },
  {
   "cell_type": "code",
   "execution_count": 280,
   "id": "a2c01126-2522-46c9-a847-53e14f1db540",
   "metadata": {},
   "outputs": [
    {
     "data": {
      "text/plain": [
       "10.0"
      ]
     },
     "execution_count": 280,
     "metadata": {},
     "output_type": "execute_result"
    }
   ],
   "source": [
    "inter_q(df.loc[df['product_name'].str.contains('tea'), 'quantity'])"
   ]
  },
  {
   "cell_type": "markdown",
   "id": "33f4d023-d630-4ef0-b6da-7761ca651784",
   "metadata": {},
   "source": [
    "##### Product Name (coffee)"
   ]
  },
  {
   "cell_type": "code",
   "execution_count": 281,
   "id": "59a32b7f-2251-4b24-b489-6098ee1ff4c8",
   "metadata": {},
   "outputs": [
    {
     "data": {
      "text/plain": [
       "3.0"
      ]
     },
     "execution_count": 281,
     "metadata": {},
     "output_type": "execute_result"
    }
   ],
   "source": [
    "df.loc[df['product_name'].str.contains('coffee'), 'quantity'].quantile(.25)"
   ]
  },
  {
   "cell_type": "code",
   "execution_count": 282,
   "id": "a71a6177-a1e6-4613-a2c1-2d4f8ba16112",
   "metadata": {},
   "outputs": [
    {
     "data": {
      "text/plain": [
       "6.0"
      ]
     },
     "execution_count": 282,
     "metadata": {},
     "output_type": "execute_result"
    }
   ],
   "source": [
    "df.loc[df['product_name'].str.contains('coffee'), 'quantity'].quantile(.75)"
   ]
  },
  {
   "cell_type": "code",
   "execution_count": 283,
   "id": "255e807d-f1db-4f01-8c8c-6e8c716b8974",
   "metadata": {},
   "outputs": [
    {
     "data": {
      "text/plain": [
       "3.0"
      ]
     },
     "execution_count": 283,
     "metadata": {},
     "output_type": "execute_result"
    }
   ],
   "source": [
    "inter_q(df.loc[df['product_name'].str.contains('coffee'), 'quantity'])"
   ]
  },
  {
   "cell_type": "markdown",
   "id": "e672e1dc-30c3-407d-9a73-413c9ed26c8c",
   "metadata": {},
   "source": [
    "### Descriptive Statistic With Grouping"
   ]
  },
  {
   "cell_type": "markdown",
   "id": "88915a96-2a99-4f39-aa14-098146039823",
   "metadata": {},
   "source": [
    "##### Aggregate 1 Column"
   ]
  },
  {
   "cell_type": "code",
   "execution_count": 284,
   "id": "4be7ecfa-5492-4061-934f-7d85019a1602",
   "metadata": {},
   "outputs": [
    {
     "data": {
      "text/html": [
       "<div>\n",
       "<style scoped>\n",
       "    .dataframe tbody tr th:only-of-type {\n",
       "        vertical-align: middle;\n",
       "    }\n",
       "\n",
       "    .dataframe tbody tr th {\n",
       "        vertical-align: top;\n",
       "    }\n",
       "\n",
       "    .dataframe thead th {\n",
       "        text-align: right;\n",
       "    }\n",
       "</style>\n",
       "<table border=\"1\" class=\"dataframe\">\n",
       "  <thead>\n",
       "    <tr style=\"text-align: right;\">\n",
       "      <th></th>\n",
       "      <th>product_name</th>\n",
       "      <th>quantity</th>\n",
       "    </tr>\n",
       "  </thead>\n",
       "  <tbody>\n",
       "    <tr>\n",
       "      <th>0</th>\n",
       "      <td>60 teatime fairy cake cases</td>\n",
       "      <td>20687</td>\n",
       "    </tr>\n",
       "    <tr>\n",
       "      <th>2</th>\n",
       "      <td>antique silver tea glass etched</td>\n",
       "      <td>13888</td>\n",
       "    </tr>\n",
       "    <tr>\n",
       "      <th>28</th>\n",
       "      <td>moroccan tea glass</td>\n",
       "      <td>6731</td>\n",
       "    </tr>\n",
       "    <tr>\n",
       "      <th>1</th>\n",
       "      <td>antique silver tea glass engraved</td>\n",
       "      <td>6248</td>\n",
       "    </tr>\n",
       "    <tr>\n",
       "      <th>33</th>\n",
       "      <td>potting shed tea mug</td>\n",
       "      <td>5224</td>\n",
       "    </tr>\n",
       "    <tr>\n",
       "      <th>...</th>\n",
       "      <td>...</td>\n",
       "      <td>...</td>\n",
       "    </tr>\n",
       "    <tr>\n",
       "      <th>11</th>\n",
       "      <td>cubic mug teatime cakes</td>\n",
       "      <td>6</td>\n",
       "    </tr>\n",
       "    <tr>\n",
       "      <th>16</th>\n",
       "      <td>english rose tea set in gift box</td>\n",
       "      <td>5</td>\n",
       "    </tr>\n",
       "    <tr>\n",
       "      <th>73</th>\n",
       "      <td>teatime funky flower backpack for 2</td>\n",
       "      <td>4</td>\n",
       "    </tr>\n",
       "    <tr>\n",
       "      <th>10</th>\n",
       "      <td>ceramic cake teapot with cherry</td>\n",
       "      <td>3</td>\n",
       "    </tr>\n",
       "    <tr>\n",
       "      <th>79</th>\n",
       "      <td>teatime round cake tins</td>\n",
       "      <td>1</td>\n",
       "    </tr>\n",
       "  </tbody>\n",
       "</table>\n",
       "<p>85 rows × 2 columns</p>\n",
       "</div>"
      ],
      "text/plain": [
       "                           product_name  quantity\n",
       "0           60 teatime fairy cake cases     20687\n",
       "2       antique silver tea glass etched     13888\n",
       "28                   moroccan tea glass      6731\n",
       "1     antique silver tea glass engraved      6248\n",
       "33                 potting shed tea mug      5224\n",
       "..                                  ...       ...\n",
       "11              cubic mug teatime cakes         6\n",
       "16     english rose tea set in gift box         5\n",
       "73  teatime funky flower backpack for 2         4\n",
       "10      ceramic cake teapot with cherry         3\n",
       "79              teatime round cake tins         1\n",
       "\n",
       "[85 rows x 2 columns]"
      ]
     },
     "execution_count": 284,
     "metadata": {},
     "output_type": "execute_result"
    }
   ],
   "source": [
    "# Most sold items that contain tea\n",
    "clean_df.loc[clean_df['product_name'].str.contains('tea')].groupby('product_name', \n",
    "            as_index=False)['quantity'].sum().sort_values('quantity', ascending=False)"
   ]
  },
  {
   "cell_type": "markdown",
   "id": "40773b54-99e4-49a0-bd36-165f94e1a656",
   "metadata": {},
   "source": [
    "##### Aggregate 2 Columns"
   ]
  },
  {
   "cell_type": "code",
   "execution_count": 285,
   "id": "cc9792ab-83a3-48e4-86cb-cb9ceeec72a2",
   "metadata": {},
   "outputs": [
    {
     "data": {
      "text/html": [
       "<div>\n",
       "<style scoped>\n",
       "    .dataframe tbody tr th:only-of-type {\n",
       "        vertical-align: middle;\n",
       "    }\n",
       "\n",
       "    .dataframe tbody tr th {\n",
       "        vertical-align: top;\n",
       "    }\n",
       "\n",
       "    .dataframe thead th {\n",
       "        text-align: right;\n",
       "    }\n",
       "</style>\n",
       "<table border=\"1\" class=\"dataframe\">\n",
       "  <thead>\n",
       "    <tr style=\"text-align: right;\">\n",
       "      <th></th>\n",
       "      <th>product_name</th>\n",
       "      <th>total_quantity</th>\n",
       "      <th>total_amount</th>\n",
       "    </tr>\n",
       "  </thead>\n",
       "  <tbody>\n",
       "    <tr>\n",
       "      <th>0</th>\n",
       "      <td>60 teatime fairy cake cases</td>\n",
       "      <td>20687</td>\n",
       "      <td>10673.12</td>\n",
       "    </tr>\n",
       "    <tr>\n",
       "      <th>2</th>\n",
       "      <td>antique silver tea glass etched</td>\n",
       "      <td>13888</td>\n",
       "      <td>16178.96</td>\n",
       "    </tr>\n",
       "    <tr>\n",
       "      <th>28</th>\n",
       "      <td>moroccan tea glass</td>\n",
       "      <td>6731</td>\n",
       "      <td>5106.11</td>\n",
       "    </tr>\n",
       "    <tr>\n",
       "      <th>1</th>\n",
       "      <td>antique silver tea glass engraved</td>\n",
       "      <td>6248</td>\n",
       "      <td>7285.60</td>\n",
       "    </tr>\n",
       "    <tr>\n",
       "      <th>33</th>\n",
       "      <td>potting shed tea mug</td>\n",
       "      <td>5224</td>\n",
       "      <td>6350.64</td>\n",
       "    </tr>\n",
       "    <tr>\n",
       "      <th>...</th>\n",
       "      <td>...</td>\n",
       "      <td>...</td>\n",
       "      <td>...</td>\n",
       "    </tr>\n",
       "    <tr>\n",
       "      <th>11</th>\n",
       "      <td>cubic mug teatime cakes</td>\n",
       "      <td>6</td>\n",
       "      <td>15.30</td>\n",
       "    </tr>\n",
       "    <tr>\n",
       "      <th>16</th>\n",
       "      <td>english rose tea set in gift box</td>\n",
       "      <td>5</td>\n",
       "      <td>23.25</td>\n",
       "    </tr>\n",
       "    <tr>\n",
       "      <th>73</th>\n",
       "      <td>teatime funky flower backpack for 2</td>\n",
       "      <td>4</td>\n",
       "      <td>67.80</td>\n",
       "    </tr>\n",
       "    <tr>\n",
       "      <th>10</th>\n",
       "      <td>ceramic cake teapot with cherry</td>\n",
       "      <td>3</td>\n",
       "      <td>13.45</td>\n",
       "    </tr>\n",
       "    <tr>\n",
       "      <th>79</th>\n",
       "      <td>teatime round cake tins</td>\n",
       "      <td>1</td>\n",
       "      <td>9.95</td>\n",
       "    </tr>\n",
       "  </tbody>\n",
       "</table>\n",
       "<p>85 rows × 3 columns</p>\n",
       "</div>"
      ],
      "text/plain": [
       "                           product_name  total_quantity  total_amount\n",
       "0           60 teatime fairy cake cases           20687      10673.12\n",
       "2       antique silver tea glass etched           13888      16178.96\n",
       "28                   moroccan tea glass            6731       5106.11\n",
       "1     antique silver tea glass engraved            6248       7285.60\n",
       "33                 potting shed tea mug            5224       6350.64\n",
       "..                                  ...             ...           ...\n",
       "11              cubic mug teatime cakes               6         15.30\n",
       "16     english rose tea set in gift box               5         23.25\n",
       "73  teatime funky flower backpack for 2               4         67.80\n",
       "10      ceramic cake teapot with cherry               3         13.45\n",
       "79              teatime round cake tins               1          9.95\n",
       "\n",
       "[85 rows x 3 columns]"
      ]
     },
     "execution_count": 285,
     "metadata": {},
     "output_type": "execute_result"
    }
   ],
   "source": [
    "# Add total amount\n",
    "df.loc[df['product_name'].str.contains('tea')].groupby('product_name', \n",
    "            as_index = False).agg(total_quantity = ('quantity', 'sum'), \n",
    "            total_amount = ('amount', 'sum')).sort_values('total_quantity', ascending = False)"
   ]
  },
  {
   "cell_type": "markdown",
   "id": "f9aab833-dded-4706-a5b7-9f15773b1c13",
   "metadata": {},
   "source": [
    "## Data Visualization"
   ]
  },
  {
   "cell_type": "markdown",
   "id": "22f4d258-c880-4f4b-88f1-60864c4cdae6",
   "metadata": {},
   "source": [
    "### Pivot Table"
   ]
  },
  {
   "cell_type": "code",
   "execution_count": 286,
   "id": "19e40680-a387-4a2e-bedc-d2bedef68769",
   "metadata": {},
   "outputs": [
    {
     "data": {
      "text/html": [
       "<div>\n",
       "<style scoped>\n",
       "    .dataframe tbody tr th:only-of-type {\n",
       "        vertical-align: middle;\n",
       "    }\n",
       "\n",
       "    .dataframe tbody tr th {\n",
       "        vertical-align: top;\n",
       "    }\n",
       "\n",
       "    .dataframe thead tr th {\n",
       "        text-align: left;\n",
       "    }\n",
       "\n",
       "    .dataframe thead tr:last-of-type th {\n",
       "        text-align: right;\n",
       "    }\n",
       "</style>\n",
       "<table border=\"1\" class=\"dataframe\">\n",
       "  <thead>\n",
       "    <tr>\n",
       "      <th></th>\n",
       "      <th colspan=\"2\" halign=\"left\">amount</th>\n",
       "      <th colspan=\"2\" halign=\"left\">order_id</th>\n",
       "    </tr>\n",
       "    <tr>\n",
       "      <th>order_status</th>\n",
       "      <th>Cancelled</th>\n",
       "      <th>Delivered</th>\n",
       "      <th>Cancelled</th>\n",
       "      <th>Delivered</th>\n",
       "    </tr>\n",
       "    <tr>\n",
       "      <th>order_date</th>\n",
       "      <th></th>\n",
       "      <th></th>\n",
       "      <th></th>\n",
       "      <th></th>\n",
       "    </tr>\n",
       "  </thead>\n",
       "  <tbody>\n",
       "    <tr>\n",
       "      <th>2010-01-04</th>\n",
       "      <td>240.28</td>\n",
       "      <td>7851.70</td>\n",
       "      <td>10</td>\n",
       "      <td>23</td>\n",
       "    </tr>\n",
       "    <tr>\n",
       "      <th>2010-01-05</th>\n",
       "      <td>82.50</td>\n",
       "      <td>15466.14</td>\n",
       "      <td>3</td>\n",
       "      <td>30</td>\n",
       "    </tr>\n",
       "    <tr>\n",
       "      <th>2010-01-06</th>\n",
       "      <td>0.00</td>\n",
       "      <td>7554.85</td>\n",
       "      <td>0</td>\n",
       "      <td>12</td>\n",
       "    </tr>\n",
       "    <tr>\n",
       "      <th>2010-01-07</th>\n",
       "      <td>646.97</td>\n",
       "      <td>17088.39</td>\n",
       "      <td>31</td>\n",
       "      <td>37</td>\n",
       "    </tr>\n",
       "    <tr>\n",
       "      <th>2010-01-08</th>\n",
       "      <td>21.90</td>\n",
       "      <td>13403.00</td>\n",
       "      <td>1</td>\n",
       "      <td>35</td>\n",
       "    </tr>\n",
       "    <tr>\n",
       "      <th>...</th>\n",
       "      <td>...</td>\n",
       "      <td>...</td>\n",
       "      <td>...</td>\n",
       "      <td>...</td>\n",
       "    </tr>\n",
       "    <tr>\n",
       "      <th>2010-12-19</th>\n",
       "      <td>17.60</td>\n",
       "      <td>6169.22</td>\n",
       "      <td>2</td>\n",
       "      <td>16</td>\n",
       "    </tr>\n",
       "    <tr>\n",
       "      <th>2010-12-20</th>\n",
       "      <td>986.42</td>\n",
       "      <td>14584.93</td>\n",
       "      <td>24</td>\n",
       "      <td>44</td>\n",
       "    </tr>\n",
       "    <tr>\n",
       "      <th>2010-12-21</th>\n",
       "      <td>201.20</td>\n",
       "      <td>5119.03</td>\n",
       "      <td>9</td>\n",
       "      <td>19</td>\n",
       "    </tr>\n",
       "    <tr>\n",
       "      <th>2010-12-22</th>\n",
       "      <td>65.40</td>\n",
       "      <td>3675.40</td>\n",
       "      <td>5</td>\n",
       "      <td>11</td>\n",
       "    </tr>\n",
       "    <tr>\n",
       "      <th>2010-12-23</th>\n",
       "      <td>207.85</td>\n",
       "      <td>3967.57</td>\n",
       "      <td>8</td>\n",
       "      <td>14</td>\n",
       "    </tr>\n",
       "  </tbody>\n",
       "</table>\n",
       "<p>298 rows × 4 columns</p>\n",
       "</div>"
      ],
      "text/plain": [
       "                amount            order_id          \n",
       "order_status Cancelled Delivered Cancelled Delivered\n",
       "order_date                                          \n",
       "2010-01-04      240.28   7851.70        10        23\n",
       "2010-01-05       82.50  15466.14         3        30\n",
       "2010-01-06        0.00   7554.85         0        12\n",
       "2010-01-07      646.97  17088.39        31        37\n",
       "2010-01-08       21.90  13403.00         1        35\n",
       "...                ...       ...       ...       ...\n",
       "2010-12-19       17.60   6169.22         2        16\n",
       "2010-12-20      986.42  14584.93        24        44\n",
       "2010-12-21      201.20   5119.03         9        19\n",
       "2010-12-22       65.40   3675.40         5        11\n",
       "2010-12-23      207.85   3967.57         8        14\n",
       "\n",
       "[298 rows x 4 columns]"
      ]
     },
     "execution_count": 286,
     "metadata": {},
     "output_type": "execute_result"
    }
   ],
   "source": [
    "pd.pivot_table(df,\n",
    "              index = 'order_date',\n",
    "              columns = 'order_status',\n",
    "              values = ['order_id', 'amount'],\n",
    "              aggfunc = {'order_id' : pd.Series.nunique,\n",
    "                        'amount' : 'sum'},\n",
    "              fill_value = 0\n",
    "              )"
   ]
  },
  {
   "cell_type": "code",
   "execution_count": 287,
   "id": "50f6d623-1d6d-4358-b2ef-cf6a89849d70",
   "metadata": {},
   "outputs": [
    {
     "data": {
      "text/html": [
       "<div>\n",
       "<style scoped>\n",
       "    .dataframe tbody tr th:only-of-type {\n",
       "        vertical-align: middle;\n",
       "    }\n",
       "\n",
       "    .dataframe tbody tr th {\n",
       "        vertical-align: top;\n",
       "    }\n",
       "\n",
       "    .dataframe thead th {\n",
       "        text-align: right;\n",
       "    }\n",
       "</style>\n",
       "<table border=\"1\" class=\"dataframe\">\n",
       "  <thead>\n",
       "    <tr style=\"text-align: right;\">\n",
       "      <th></th>\n",
       "      <th>order_status</th>\n",
       "      <th>order_count</th>\n",
       "      <th>total_amount</th>\n",
       "    </tr>\n",
       "  </thead>\n",
       "  <tbody>\n",
       "    <tr>\n",
       "      <th>0</th>\n",
       "      <td>Cancelled</td>\n",
       "      <td>3590</td>\n",
       "      <td>140737.010</td>\n",
       "    </tr>\n",
       "    <tr>\n",
       "      <th>1</th>\n",
       "      <td>Delivered</td>\n",
       "      <td>16355</td>\n",
       "      <td>5866302.163</td>\n",
       "    </tr>\n",
       "  </tbody>\n",
       "</table>\n",
       "</div>"
      ],
      "text/plain": [
       "  order_status  order_count  total_amount\n",
       "0    Cancelled         3590    140737.010\n",
       "1    Delivered        16355   5866302.163"
      ]
     },
     "execution_count": 287,
     "metadata": {},
     "output_type": "execute_result"
    }
   ],
   "source": [
    "# Create new dataframe to count order status\n",
    "\n",
    "df_order = df.groupby('order_status', as_index = False).agg(order_count = ('order_id', 'nunique'), \n",
    "                total_amount = ('amount', 'sum'))\n",
    "df_order"
   ]
  },
  {
   "cell_type": "code",
   "execution_count": 288,
   "id": "2b2f68d5-8c55-4099-a0ee-3f47460f24ee",
   "metadata": {},
   "outputs": [
    {
     "data": {
      "image/png": "[encoded data removed]",
      "text/plain": [
       "<Figure size 600x400 with 1 Axes>"
      ]
     },
     "metadata": {},
     "output_type": "display_data"
    }
   ],
   "source": [
    "import matplotlib.pyplot as plt\n",
    "\n",
    "# Total Order\n",
    "fig = plt.figure(figsize = (6, 4))\n",
    "\n",
    "plt.bar(df_order['order_status'], df_order['order_count'], color = 'green', width = 0.5)\n",
    "\n",
    "plt.xlabel('Order Status')\n",
    "plt.ylabel('Total Order')\n",
    "plt.title('Summary of Delivered and Cancelled Orders')\n",
    "plt.show()"
   ]
  },
  {
   "cell_type": "code",
   "execution_count": 289,
   "id": "91d85d0d-7e7f-4e84-92a5-97bfb421d6b8",
   "metadata": {},
   "outputs": [
    {
     "data": {
      "text/plain": [
       "<function matplotlib.pyplot.show(close=None, block=None)>"
      ]
     },
     "execution_count": 289,
     "metadata": {},
     "output_type": "execute_result"
    },
    {
     "data": {
      "image/png": "[encoded data removed]",
      "text/plain": [
       "<Figure size 640x480 with 1 Axes>"
      ]
     },
     "metadata": {},
     "output_type": "display_data"
    }
   ],
   "source": [
    "# Total Amount\n",
    "\n",
    "plt.bar(df_order['order_status'], df_order['total_amount'], color = 'green', width = 0.5)\n",
    "plt.xlabel('Order Status')\n",
    "plt.ylabel('Total Amount')\n",
    "plt.title('Total Amount of Delivered and Cancelled Orders')\n",
    "plt.show"
   ]
  },
  {
   "cell_type": "code",
   "execution_count": 290,
   "id": "d6ff3c98-d53a-451b-8481-bdcbcd5c8104",
   "metadata": {},
   "outputs": [
    {
     "data": {
      "image/png": "[encoded data removed]",
      "text/plain": [
       "<Figure size 600x400 with 1 Axes>"
      ]
     },
     "metadata": {},
     "output_type": "display_data"
    }
   ],
   "source": [
    "# Histogram of Product Name that contain tea\n",
    "\n",
    "fig = plt.figure(figsize = (6, 4))\n",
    "plt.hist(df.loc[df['product_name'].str.contains('tea'), 'amount'], 100, color = 'blue')\n",
    "plt.ylabel('Total Product')\n",
    "plt.show()"
   ]
  },
  {
   "cell_type": "code",
   "execution_count": 291,
   "id": "a2893e76-94c3-4da0-bf70-45c167f21009",
   "metadata": {},
   "outputs": [
    {
     "data": {
      "text/html": [
       "<div>\n",
       "<style scoped>\n",
       "    .dataframe tbody tr th:only-of-type {\n",
       "        vertical-align: middle;\n",
       "    }\n",
       "\n",
       "    .dataframe tbody tr th {\n",
       "        vertical-align: top;\n",
       "    }\n",
       "\n",
       "    .dataframe thead th {\n",
       "        text-align: right;\n",
       "    }\n",
       "</style>\n",
       "<table border=\"1\" class=\"dataframe\">\n",
       "  <thead>\n",
       "    <tr style=\"text-align: right;\">\n",
       "      <th></th>\n",
       "      <th>order_date</th>\n",
       "      <th>total_orders</th>\n",
       "    </tr>\n",
       "  </thead>\n",
       "  <tbody>\n",
       "    <tr>\n",
       "      <th>0</th>\n",
       "      <td>2010-01-04</td>\n",
       "      <td>33</td>\n",
       "    </tr>\n",
       "    <tr>\n",
       "      <th>1</th>\n",
       "      <td>2010-01-05</td>\n",
       "      <td>33</td>\n",
       "    </tr>\n",
       "    <tr>\n",
       "      <th>2</th>\n",
       "      <td>2010-01-06</td>\n",
       "      <td>12</td>\n",
       "    </tr>\n",
       "    <tr>\n",
       "      <th>3</th>\n",
       "      <td>2010-01-07</td>\n",
       "      <td>68</td>\n",
       "    </tr>\n",
       "    <tr>\n",
       "      <th>4</th>\n",
       "      <td>2010-01-08</td>\n",
       "      <td>36</td>\n",
       "    </tr>\n",
       "    <tr>\n",
       "      <th>...</th>\n",
       "      <td>...</td>\n",
       "      <td>...</td>\n",
       "    </tr>\n",
       "    <tr>\n",
       "      <th>293</th>\n",
       "      <td>2010-12-19</td>\n",
       "      <td>18</td>\n",
       "    </tr>\n",
       "    <tr>\n",
       "      <th>294</th>\n",
       "      <td>2010-12-20</td>\n",
       "      <td>68</td>\n",
       "    </tr>\n",
       "    <tr>\n",
       "      <th>295</th>\n",
       "      <td>2010-12-21</td>\n",
       "      <td>28</td>\n",
       "    </tr>\n",
       "    <tr>\n",
       "      <th>296</th>\n",
       "      <td>2010-12-22</td>\n",
       "      <td>16</td>\n",
       "    </tr>\n",
       "    <tr>\n",
       "      <th>297</th>\n",
       "      <td>2010-12-23</td>\n",
       "      <td>22</td>\n",
       "    </tr>\n",
       "  </tbody>\n",
       "</table>\n",
       "<p>298 rows × 2 columns</p>\n",
       "</div>"
      ],
      "text/plain": [
       "     order_date  total_orders\n",
       "0    2010-01-04            33\n",
       "1    2010-01-05            33\n",
       "2    2010-01-06            12\n",
       "3    2010-01-07            68\n",
       "4    2010-01-08            36\n",
       "..          ...           ...\n",
       "293  2010-12-19            18\n",
       "294  2010-12-20            68\n",
       "295  2010-12-21            28\n",
       "296  2010-12-22            16\n",
       "297  2010-12-23            22\n",
       "\n",
       "[298 rows x 2 columns]"
      ]
     },
     "execution_count": 291,
     "metadata": {},
     "output_type": "execute_result"
    }
   ],
   "source": [
    "# Create new dataframe to count how many orders in a day\n",
    "\n",
    "df_date = df.groupby('order_date', as_index = False).agg(total_orders = ('order_id', 'nunique'))\n",
    "df_date"
   ]
  },
  {
   "cell_type": "code",
   "execution_count": 292,
   "id": "5dcc3015-12b5-41ff-9575-649525c9c747",
   "metadata": {},
   "outputs": [
    {
     "data": {
      "image/png": "[encoded data removed]",
      "text/plain": [
       "<Figure size 1200x500 with 1 Axes>"
      ]
     },
     "metadata": {},
     "output_type": "display_data"
    }
   ],
   "source": [
    "# Create line chart for visualization\n",
    "fig = plt.figure(figsize = (12, 5))\n",
    "plt.plot('order_date', 'total_orders', data = df_date, color = 'green', linestyle = '-')\n",
    "plt.show()"
   ]
  },
  {
   "cell_type": "code",
   "execution_count": 293,
   "id": "37ff4d37-4acb-4049-b7b3-c1cad0b231b8",
   "metadata": {},
   "outputs": [
    {
     "data": {
      "image/png": "[encoded data removed]",
      "text/plain": [
       "<Figure size 600x400 with 1 Axes>"
      ]
     },
     "metadata": {},
     "output_type": "display_data"
    }
   ],
   "source": [
    "# Pie Chart\n",
    "fig = plt.figure(figsize = (6, 4))\n",
    "plt.pie(df_order['total_amount'], labels = df_order['order_status'], startangle = 90, \n",
    "       autopct = '%1.2f%%', colors = ['red', 'green'])\n",
    "plt.show()"
   ]
  },
  {
   "cell_type": "code",
   "execution_count": 294,
   "id": "7ba44bf7-790e-4dd1-ad94-6bf332bf5c56",
   "metadata": {},
   "outputs": [
    {
     "data": {
      "text/html": [
       "<div>\n",
       "<style scoped>\n",
       "    .dataframe tbody tr th:only-of-type {\n",
       "        vertical-align: middle;\n",
       "    }\n",
       "\n",
       "    .dataframe tbody tr th {\n",
       "        vertical-align: top;\n",
       "    }\n",
       "\n",
       "    .dataframe thead th {\n",
       "        text-align: right;\n",
       "    }\n",
       "</style>\n",
       "<table border=\"1\" class=\"dataframe\">\n",
       "  <thead>\n",
       "    <tr style=\"text-align: right;\">\n",
       "      <th></th>\n",
       "      <th>order_id</th>\n",
       "      <th>product_code</th>\n",
       "      <th>product_name</th>\n",
       "      <th>quantity</th>\n",
       "      <th>order_date</th>\n",
       "      <th>price</th>\n",
       "      <th>customer_id</th>\n",
       "      <th>year_month</th>\n",
       "      <th>order_status</th>\n",
       "      <th>amount</th>\n",
       "    </tr>\n",
       "  </thead>\n",
       "  <tbody>\n",
       "    <tr>\n",
       "      <th>5</th>\n",
       "      <td>493414</td>\n",
       "      <td>21527</td>\n",
       "      <td>red retrospot traditional teapot</td>\n",
       "      <td>12</td>\n",
       "      <td>2010-01-04</td>\n",
       "      <td>6.95</td>\n",
       "      <td>14590.0</td>\n",
       "      <td>2010-01</td>\n",
       "      <td>Delivered</td>\n",
       "      <td>83.40</td>\n",
       "    </tr>\n",
       "    <tr>\n",
       "      <th>7</th>\n",
       "      <td>C493415</td>\n",
       "      <td>21527</td>\n",
       "      <td>red retrospot traditional teapot</td>\n",
       "      <td>3</td>\n",
       "      <td>2010-01-04</td>\n",
       "      <td>7.95</td>\n",
       "      <td>14590.0</td>\n",
       "      <td>2010-01</td>\n",
       "      <td>Cancelled</td>\n",
       "      <td>23.85</td>\n",
       "    </tr>\n",
       "    <tr>\n",
       "      <th>17</th>\n",
       "      <td>493427</td>\n",
       "      <td>79000</td>\n",
       "      <td>moroccan tea glass</td>\n",
       "      <td>12</td>\n",
       "      <td>2010-01-04</td>\n",
       "      <td>0.85</td>\n",
       "      <td>13287.0</td>\n",
       "      <td>2010-01</td>\n",
       "      <td>Delivered</td>\n",
       "      <td>10.20</td>\n",
       "    </tr>\n",
       "    <tr>\n",
       "      <th>53</th>\n",
       "      <td>C493430</td>\n",
       "      <td>21527</td>\n",
       "      <td>red retrospot traditional teapot</td>\n",
       "      <td>1</td>\n",
       "      <td>2010-01-04</td>\n",
       "      <td>7.95</td>\n",
       "      <td>14680.0</td>\n",
       "      <td>2010-01</td>\n",
       "      <td>Cancelled</td>\n",
       "      <td>7.95</td>\n",
       "    </tr>\n",
       "    <tr>\n",
       "      <th>97</th>\n",
       "      <td>493432</td>\n",
       "      <td>22072</td>\n",
       "      <td>red retrospot tea cup and saucer</td>\n",
       "      <td>2</td>\n",
       "      <td>2010-01-04</td>\n",
       "      <td>3.75</td>\n",
       "      <td>14680.0</td>\n",
       "      <td>2010-01</td>\n",
       "      <td>Delivered</td>\n",
       "      <td>7.50</td>\n",
       "    </tr>\n",
       "  </tbody>\n",
       "</table>\n",
       "</div>"
      ],
      "text/plain": [
       "   order_id product_code                      product_name  quantity  \\\n",
       "5    493414        21527  red retrospot traditional teapot        12   \n",
       "7   C493415        21527  red retrospot traditional teapot         3   \n",
       "17   493427        79000                moroccan tea glass        12   \n",
       "53  C493430        21527  red retrospot traditional teapot         1   \n",
       "97   493432        22072  red retrospot tea cup and saucer         2   \n",
       "\n",
       "    order_date  price customer_id year_month order_status  amount  \n",
       "5   2010-01-04   6.95     14590.0    2010-01    Delivered   83.40  \n",
       "7   2010-01-04   7.95     14590.0    2010-01    Cancelled   23.85  \n",
       "17  2010-01-04   0.85     13287.0    2010-01    Delivered   10.20  \n",
       "53  2010-01-04   7.95     14680.0    2010-01    Cancelled    7.95  \n",
       "97  2010-01-04   3.75     14680.0    2010-01    Delivered    7.50  "
      ]
     },
     "execution_count": 294,
     "metadata": {},
     "output_type": "execute_result"
    }
   ],
   "source": [
    "# Create new dataframe that consist only tea product\n",
    "\n",
    "df_tea = df[df['product_name'].str.contains('tea')]\n",
    "df_tea.head()"
   ]
  },
  {
   "cell_type": "code",
   "execution_count": 295,
   "id": "1f9cc30d-21d0-4264-9884-52700412edf1",
   "metadata": {},
   "outputs": [
    {
     "data": {
      "image/png": "[encoded data removed]",
      "text/plain": [
       "<Figure size 600x400 with 1 Axes>"
      ]
     },
     "metadata": {},
     "output_type": "display_data"
    }
   ],
   "source": [
    "fig = plt.figure(figsize = (6, 4))\n",
    "plt.scatter(df_tea['quantity'], df_tea['amount'], c = 'red', marker = 'o')\n",
    "plt.xlabel('Quantity')\n",
    "plt.ylabel('Amount')\n",
    "plt.show()"
   ]
  },
  {
   "cell_type": "markdown",
   "id": "cd8f9c93-c620-44c1-b41f-6248dd7d0ba8",
   "metadata": {},
   "source": [
    "Based on scatterplot above, we could see there is correlation between quantity and amount."
   ]
  },
  {
   "cell_type": "code",
   "execution_count": 296,
   "id": "e4f1e712-ddb8-42ec-94c8-6c3b49b4e9fc",
   "metadata": {},
   "outputs": [
    {
     "data": {
      "text/plain": [
       "<Axes: ylabel='quantity'>"
      ]
     },
     "execution_count": 296,
     "metadata": {},
     "output_type": "execute_result"
    },
    {
     "data": {
      "image/png": "[encoded data removed]",
      "text/plain": [
       "<Figure size 640x480 with 1 Axes>"
      ]
     },
     "metadata": {},
     "output_type": "display_data"
    }
   ],
   "source": [
    "#Boxplot\n",
    "\n",
    "import seaborn as sns\n",
    "\n",
    "sns.boxplot(data = df_tea, y = 'quantity', color = 'red')"
   ]
  },
  {
   "cell_type": "markdown",
   "id": "dbf5f512-fef8-4299-b6af-495bb9d5f8b7",
   "metadata": {},
   "source": [
    "##### Heatmap to see correlation between columns"
   ]
  },
  {
   "cell_type": "code",
   "execution_count": 297,
   "id": "588d21f3-04f9-4882-8654-d6ba5adabbda",
   "metadata": {},
   "outputs": [
    {
     "data": {
      "text/plain": [
       "<Axes: >"
      ]
     },
     "execution_count": 297,
     "metadata": {},
     "output_type": "execute_result"
    },
    {
     "data": {
      "image/png": "[encoded data removed]",
      "text/plain": [
       "<Figure size 640x480 with 2 Axes>"
      ]
     },
     "metadata": {},
     "output_type": "display_data"
    }
   ],
   "source": [
    "sns.heatmap(df.corr(numeric_only = True), cmap = 'Reds', annot = True)"
   ]
  },
  {
   "cell_type": "markdown",
   "id": "aa11d538-b232-4d8c-942d-b747cd1429b9",
   "metadata": {},
   "source": [
    "## User Retention"
   ]
  },
  {
   "cell_type": "code",
   "execution_count": 298,
   "id": "212350e7-4cf0-488d-84b7-570b810b8440",
   "metadata": {},
   "outputs": [
    {
     "data": {
      "text/html": [
       "<div>\n",
       "<style scoped>\n",
       "    .dataframe tbody tr th:only-of-type {\n",
       "        vertical-align: middle;\n",
       "    }\n",
       "\n",
       "    .dataframe tbody tr th {\n",
       "        vertical-align: top;\n",
       "    }\n",
       "\n",
       "    .dataframe thead th {\n",
       "        text-align: right;\n",
       "    }\n",
       "</style>\n",
       "<table border=\"1\" class=\"dataframe\">\n",
       "  <thead>\n",
       "    <tr style=\"text-align: right;\">\n",
       "      <th></th>\n",
       "      <th>order_id</th>\n",
       "      <th>product_code</th>\n",
       "      <th>product_name</th>\n",
       "      <th>quantity</th>\n",
       "      <th>order_date</th>\n",
       "      <th>price</th>\n",
       "      <th>customer_id</th>\n",
       "      <th>year_month</th>\n",
       "      <th>order_status</th>\n",
       "      <th>amount</th>\n",
       "    </tr>\n",
       "  </thead>\n",
       "  <tbody>\n",
       "    <tr>\n",
       "      <th>0</th>\n",
       "      <td>C493411</td>\n",
       "      <td>21539</td>\n",
       "      <td>red retrospot butter dish</td>\n",
       "      <td>1</td>\n",
       "      <td>2010-01-04</td>\n",
       "      <td>4.25</td>\n",
       "      <td>14590.0</td>\n",
       "      <td>2010-01</td>\n",
       "      <td>Cancelled</td>\n",
       "      <td>4.25</td>\n",
       "    </tr>\n",
       "    <tr>\n",
       "      <th>1</th>\n",
       "      <td>493414</td>\n",
       "      <td>21844</td>\n",
       "      <td>red retrospot mug</td>\n",
       "      <td>36</td>\n",
       "      <td>2010-01-04</td>\n",
       "      <td>2.55</td>\n",
       "      <td>14590.0</td>\n",
       "      <td>2010-01</td>\n",
       "      <td>Delivered</td>\n",
       "      <td>91.80</td>\n",
       "    </tr>\n",
       "    <tr>\n",
       "      <th>2</th>\n",
       "      <td>493414</td>\n",
       "      <td>21533</td>\n",
       "      <td>retro spot large milk jug</td>\n",
       "      <td>12</td>\n",
       "      <td>2010-01-04</td>\n",
       "      <td>4.25</td>\n",
       "      <td>14590.0</td>\n",
       "      <td>2010-01</td>\n",
       "      <td>Delivered</td>\n",
       "      <td>51.00</td>\n",
       "    </tr>\n",
       "    <tr>\n",
       "      <th>3</th>\n",
       "      <td>493414</td>\n",
       "      <td>37508</td>\n",
       "      <td>new england ceramic cake server</td>\n",
       "      <td>2</td>\n",
       "      <td>2010-01-04</td>\n",
       "      <td>2.55</td>\n",
       "      <td>14590.0</td>\n",
       "      <td>2010-01</td>\n",
       "      <td>Delivered</td>\n",
       "      <td>5.10</td>\n",
       "    </tr>\n",
       "    <tr>\n",
       "      <th>4</th>\n",
       "      <td>493414</td>\n",
       "      <td>35001G</td>\n",
       "      <td>hand open shape gold</td>\n",
       "      <td>2</td>\n",
       "      <td>2010-01-04</td>\n",
       "      <td>4.25</td>\n",
       "      <td>14590.0</td>\n",
       "      <td>2010-01</td>\n",
       "      <td>Delivered</td>\n",
       "      <td>8.50</td>\n",
       "    </tr>\n",
       "  </tbody>\n",
       "</table>\n",
       "</div>"
      ],
      "text/plain": [
       "  order_id product_code                     product_name  quantity  \\\n",
       "0  C493411        21539        red retrospot butter dish         1   \n",
       "1   493414        21844                red retrospot mug        36   \n",
       "2   493414        21533        retro spot large milk jug        12   \n",
       "3   493414        37508  new england ceramic cake server         2   \n",
       "4   493414       35001G             hand open shape gold         2   \n",
       "\n",
       "   order_date  price customer_id year_month order_status  amount  \n",
       "0  2010-01-04   4.25     14590.0    2010-01    Cancelled    4.25  \n",
       "1  2010-01-04   2.55     14590.0    2010-01    Delivered   91.80  \n",
       "2  2010-01-04   4.25     14590.0    2010-01    Delivered   51.00  \n",
       "3  2010-01-04   2.55     14590.0    2010-01    Delivered    5.10  \n",
       "4  2010-01-04   4.25     14590.0    2010-01    Delivered    8.50  "
      ]
     },
     "execution_count": 298,
     "metadata": {},
     "output_type": "execute_result"
    }
   ],
   "source": [
    "df.head()"
   ]
  },
  {
   "cell_type": "markdown",
   "id": "3e7b4ca6-921e-4459-8ac4-a9c417d2fa70",
   "metadata": {},
   "source": [
    "### Create summary of transaction by customer per month"
   ]
  },
  {
   "cell_type": "code",
   "execution_count": 299,
   "id": "4e11355f-9eb3-43d8-a2fe-0e4d1a6d2fd5",
   "metadata": {},
   "outputs": [
    {
     "data": {
      "text/html": [
       "<div>\n",
       "<style scoped>\n",
       "    .dataframe tbody tr th:only-of-type {\n",
       "        vertical-align: middle;\n",
       "    }\n",
       "\n",
       "    .dataframe tbody tr th {\n",
       "        vertical-align: top;\n",
       "    }\n",
       "\n",
       "    .dataframe thead th {\n",
       "        text-align: right;\n",
       "    }\n",
       "</style>\n",
       "<table border=\"1\" class=\"dataframe\">\n",
       "  <thead>\n",
       "    <tr style=\"text-align: right;\">\n",
       "      <th></th>\n",
       "      <th>customer_id</th>\n",
       "      <th>year_month</th>\n",
       "      <th>order_count</th>\n",
       "    </tr>\n",
       "  </thead>\n",
       "  <tbody>\n",
       "    <tr>\n",
       "      <th>0</th>\n",
       "      <td>12346.0</td>\n",
       "      <td>2010-01</td>\n",
       "      <td>1</td>\n",
       "    </tr>\n",
       "    <tr>\n",
       "      <th>1</th>\n",
       "      <td>12346.0</td>\n",
       "      <td>2010-03</td>\n",
       "      <td>1</td>\n",
       "    </tr>\n",
       "    <tr>\n",
       "      <th>2</th>\n",
       "      <td>12346.0</td>\n",
       "      <td>2010-06</td>\n",
       "      <td>2</td>\n",
       "    </tr>\n",
       "    <tr>\n",
       "      <th>3</th>\n",
       "      <td>12346.0</td>\n",
       "      <td>2010-10</td>\n",
       "      <td>1</td>\n",
       "    </tr>\n",
       "    <tr>\n",
       "      <th>4</th>\n",
       "      <td>12608.0</td>\n",
       "      <td>2010-10</td>\n",
       "      <td>1</td>\n",
       "    </tr>\n",
       "    <tr>\n",
       "      <th>...</th>\n",
       "      <td>...</td>\n",
       "      <td>...</td>\n",
       "      <td>...</td>\n",
       "    </tr>\n",
       "    <tr>\n",
       "      <th>12039</th>\n",
       "      <td>18286.0</td>\n",
       "      <td>2010-06</td>\n",
       "      <td>1</td>\n",
       "    </tr>\n",
       "    <tr>\n",
       "      <th>12040</th>\n",
       "      <td>18286.0</td>\n",
       "      <td>2010-08</td>\n",
       "      <td>1</td>\n",
       "    </tr>\n",
       "    <tr>\n",
       "      <th>12041</th>\n",
       "      <td>18287.0</td>\n",
       "      <td>2010-05</td>\n",
       "      <td>1</td>\n",
       "    </tr>\n",
       "    <tr>\n",
       "      <th>12042</th>\n",
       "      <td>18287.0</td>\n",
       "      <td>2010-09</td>\n",
       "      <td>2</td>\n",
       "    </tr>\n",
       "    <tr>\n",
       "      <th>12043</th>\n",
       "      <td>18287.0</td>\n",
       "      <td>2010-11</td>\n",
       "      <td>1</td>\n",
       "    </tr>\n",
       "  </tbody>\n",
       "</table>\n",
       "<p>12044 rows × 3 columns</p>\n",
       "</div>"
      ],
      "text/plain": [
       "      customer_id year_month  order_count\n",
       "0         12346.0    2010-01            1\n",
       "1         12346.0    2010-03            1\n",
       "2         12346.0    2010-06            2\n",
       "3         12346.0    2010-10            1\n",
       "4         12608.0    2010-10            1\n",
       "...           ...        ...          ...\n",
       "12039     18286.0    2010-06            1\n",
       "12040     18286.0    2010-08            1\n",
       "12041     18287.0    2010-05            1\n",
       "12042     18287.0    2010-09            2\n",
       "12043     18287.0    2010-11            1\n",
       "\n",
       "[12044 rows x 3 columns]"
      ]
     },
     "execution_count": 299,
     "metadata": {},
     "output_type": "execute_result"
    }
   ],
   "source": [
    "df_monthly = df.groupby(['customer_id', 'year_month'], as_index = False).agg(order_count = ('order_id', 'nunique'))\n",
    "\n",
    "df_monthly"
   ]
  },
  {
   "cell_type": "markdown",
   "id": "849367c6-d379-4210-aea4-8c6d1af3675e",
   "metadata": {},
   "source": [
    "### Cohort"
   ]
  },
  {
   "cell_type": "markdown",
   "id": "ff16fd0f-3786-4edc-860b-0f1e0e99ac92",
   "metadata": {},
   "source": [
    "Create a new column that contains the first month a customer made a transaction"
   ]
  },
  {
   "cell_type": "code",
   "execution_count": 300,
   "id": "bdbf0db7-d014-4204-ba26-20ade50dcd10",
   "metadata": {},
   "outputs": [
    {
     "data": {
      "text/html": [
       "<div>\n",
       "<style scoped>\n",
       "    .dataframe tbody tr th:only-of-type {\n",
       "        vertical-align: middle;\n",
       "    }\n",
       "\n",
       "    .dataframe tbody tr th {\n",
       "        vertical-align: top;\n",
       "    }\n",
       "\n",
       "    .dataframe thead th {\n",
       "        text-align: right;\n",
       "    }\n",
       "</style>\n",
       "<table border=\"1\" class=\"dataframe\">\n",
       "  <thead>\n",
       "    <tr style=\"text-align: right;\">\n",
       "      <th></th>\n",
       "      <th>customer_id</th>\n",
       "      <th>year_month</th>\n",
       "      <th>order_count</th>\n",
       "      <th>cohort</th>\n",
       "    </tr>\n",
       "  </thead>\n",
       "  <tbody>\n",
       "    <tr>\n",
       "      <th>0</th>\n",
       "      <td>12346.0</td>\n",
       "      <td>2010-01</td>\n",
       "      <td>1</td>\n",
       "      <td>2010-01</td>\n",
       "    </tr>\n",
       "    <tr>\n",
       "      <th>1</th>\n",
       "      <td>12346.0</td>\n",
       "      <td>2010-03</td>\n",
       "      <td>1</td>\n",
       "      <td>2010-01</td>\n",
       "    </tr>\n",
       "    <tr>\n",
       "      <th>2</th>\n",
       "      <td>12346.0</td>\n",
       "      <td>2010-06</td>\n",
       "      <td>2</td>\n",
       "      <td>2010-01</td>\n",
       "    </tr>\n",
       "    <tr>\n",
       "      <th>3</th>\n",
       "      <td>12346.0</td>\n",
       "      <td>2010-10</td>\n",
       "      <td>1</td>\n",
       "      <td>2010-01</td>\n",
       "    </tr>\n",
       "    <tr>\n",
       "      <th>4</th>\n",
       "      <td>12608.0</td>\n",
       "      <td>2010-10</td>\n",
       "      <td>1</td>\n",
       "      <td>2010-10</td>\n",
       "    </tr>\n",
       "    <tr>\n",
       "      <th>...</th>\n",
       "      <td>...</td>\n",
       "      <td>...</td>\n",
       "      <td>...</td>\n",
       "      <td>...</td>\n",
       "    </tr>\n",
       "    <tr>\n",
       "      <th>12039</th>\n",
       "      <td>18286.0</td>\n",
       "      <td>2010-06</td>\n",
       "      <td>1</td>\n",
       "      <td>2010-06</td>\n",
       "    </tr>\n",
       "    <tr>\n",
       "      <th>12040</th>\n",
       "      <td>18286.0</td>\n",
       "      <td>2010-08</td>\n",
       "      <td>1</td>\n",
       "      <td>2010-06</td>\n",
       "    </tr>\n",
       "    <tr>\n",
       "      <th>12041</th>\n",
       "      <td>18287.0</td>\n",
       "      <td>2010-05</td>\n",
       "      <td>1</td>\n",
       "      <td>2010-05</td>\n",
       "    </tr>\n",
       "    <tr>\n",
       "      <th>12042</th>\n",
       "      <td>18287.0</td>\n",
       "      <td>2010-09</td>\n",
       "      <td>2</td>\n",
       "      <td>2010-05</td>\n",
       "    </tr>\n",
       "    <tr>\n",
       "      <th>12043</th>\n",
       "      <td>18287.0</td>\n",
       "      <td>2010-11</td>\n",
       "      <td>1</td>\n",
       "      <td>2010-05</td>\n",
       "    </tr>\n",
       "  </tbody>\n",
       "</table>\n",
       "<p>12044 rows × 4 columns</p>\n",
       "</div>"
      ],
      "text/plain": [
       "      customer_id year_month  order_count   cohort\n",
       "0         12346.0    2010-01            1  2010-01\n",
       "1         12346.0    2010-03            1  2010-01\n",
       "2         12346.0    2010-06            2  2010-01\n",
       "3         12346.0    2010-10            1  2010-01\n",
       "4         12608.0    2010-10            1  2010-10\n",
       "...           ...        ...          ...      ...\n",
       "12039     18286.0    2010-06            1  2010-06\n",
       "12040     18286.0    2010-08            1  2010-06\n",
       "12041     18287.0    2010-05            1  2010-05\n",
       "12042     18287.0    2010-09            2  2010-05\n",
       "12043     18287.0    2010-11            1  2010-05\n",
       "\n",
       "[12044 rows x 4 columns]"
      ]
     },
     "execution_count": 300,
     "metadata": {},
     "output_type": "execute_result"
    }
   ],
   "source": [
    "df_monthly['cohort'] = df_monthly.groupby('customer_id')['year_month'].transform('min')\n",
    "df_monthly"
   ]
  },
  {
   "cell_type": "markdown",
   "id": "30d84806-addd-4f74-a95e-91396de0ce9d",
   "metadata": {},
   "source": [
    "Calculate range between the month of the last transaction and the month of the first transaction"
   ]
  },
  {
   "cell_type": "code",
   "execution_count": 301,
   "id": "dad20ac5-9835-42c0-a843-1d58c6276681",
   "metadata": {},
   "outputs": [
    {
     "data": {
      "text/html": [
       "<div>\n",
       "<style scoped>\n",
       "    .dataframe tbody tr th:only-of-type {\n",
       "        vertical-align: middle;\n",
       "    }\n",
       "\n",
       "    .dataframe tbody tr th {\n",
       "        vertical-align: top;\n",
       "    }\n",
       "\n",
       "    .dataframe thead th {\n",
       "        text-align: right;\n",
       "    }\n",
       "</style>\n",
       "<table border=\"1\" class=\"dataframe\">\n",
       "  <thead>\n",
       "    <tr style=\"text-align: right;\">\n",
       "      <th></th>\n",
       "      <th>customer_id</th>\n",
       "      <th>year_month</th>\n",
       "      <th>order_count</th>\n",
       "      <th>cohort</th>\n",
       "      <th>range_period</th>\n",
       "    </tr>\n",
       "  </thead>\n",
       "  <tbody>\n",
       "    <tr>\n",
       "      <th>0</th>\n",
       "      <td>12346.0</td>\n",
       "      <td>2010-01</td>\n",
       "      <td>1</td>\n",
       "      <td>2010-01</td>\n",
       "      <td>1</td>\n",
       "    </tr>\n",
       "    <tr>\n",
       "      <th>1</th>\n",
       "      <td>12346.0</td>\n",
       "      <td>2010-03</td>\n",
       "      <td>1</td>\n",
       "      <td>2010-01</td>\n",
       "      <td>3</td>\n",
       "    </tr>\n",
       "    <tr>\n",
       "      <th>2</th>\n",
       "      <td>12346.0</td>\n",
       "      <td>2010-06</td>\n",
       "      <td>2</td>\n",
       "      <td>2010-01</td>\n",
       "      <td>6</td>\n",
       "    </tr>\n",
       "    <tr>\n",
       "      <th>3</th>\n",
       "      <td>12346.0</td>\n",
       "      <td>2010-10</td>\n",
       "      <td>1</td>\n",
       "      <td>2010-01</td>\n",
       "      <td>10</td>\n",
       "    </tr>\n",
       "    <tr>\n",
       "      <th>4</th>\n",
       "      <td>12608.0</td>\n",
       "      <td>2010-10</td>\n",
       "      <td>1</td>\n",
       "      <td>2010-10</td>\n",
       "      <td>1</td>\n",
       "    </tr>\n",
       "    <tr>\n",
       "      <th>...</th>\n",
       "      <td>...</td>\n",
       "      <td>...</td>\n",
       "      <td>...</td>\n",
       "      <td>...</td>\n",
       "      <td>...</td>\n",
       "    </tr>\n",
       "    <tr>\n",
       "      <th>12039</th>\n",
       "      <td>18286.0</td>\n",
       "      <td>2010-06</td>\n",
       "      <td>1</td>\n",
       "      <td>2010-06</td>\n",
       "      <td>1</td>\n",
       "    </tr>\n",
       "    <tr>\n",
       "      <th>12040</th>\n",
       "      <td>18286.0</td>\n",
       "      <td>2010-08</td>\n",
       "      <td>1</td>\n",
       "      <td>2010-06</td>\n",
       "      <td>3</td>\n",
       "    </tr>\n",
       "    <tr>\n",
       "      <th>12041</th>\n",
       "      <td>18287.0</td>\n",
       "      <td>2010-05</td>\n",
       "      <td>1</td>\n",
       "      <td>2010-05</td>\n",
       "      <td>1</td>\n",
       "    </tr>\n",
       "    <tr>\n",
       "      <th>12042</th>\n",
       "      <td>18287.0</td>\n",
       "      <td>2010-09</td>\n",
       "      <td>2</td>\n",
       "      <td>2010-05</td>\n",
       "      <td>5</td>\n",
       "    </tr>\n",
       "    <tr>\n",
       "      <th>12043</th>\n",
       "      <td>18287.0</td>\n",
       "      <td>2010-11</td>\n",
       "      <td>1</td>\n",
       "      <td>2010-05</td>\n",
       "      <td>7</td>\n",
       "    </tr>\n",
       "  </tbody>\n",
       "</table>\n",
       "<p>12044 rows × 5 columns</p>\n",
       "</div>"
      ],
      "text/plain": [
       "      customer_id year_month  order_count   cohort  range_period\n",
       "0         12346.0    2010-01            1  2010-01             1\n",
       "1         12346.0    2010-03            1  2010-01             3\n",
       "2         12346.0    2010-06            2  2010-01             6\n",
       "3         12346.0    2010-10            1  2010-01            10\n",
       "4         12608.0    2010-10            1  2010-10             1\n",
       "...           ...        ...          ...      ...           ...\n",
       "12039     18286.0    2010-06            1  2010-06             1\n",
       "12040     18286.0    2010-08            1  2010-06             3\n",
       "12041     18287.0    2010-05            1  2010-05             1\n",
       "12042     18287.0    2010-09            2  2010-05             5\n",
       "12043     18287.0    2010-11            1  2010-05             7\n",
       "\n",
       "[12044 rows x 5 columns]"
      ]
     },
     "execution_count": 301,
     "metadata": {},
     "output_type": "execute_result"
    }
   ],
   "source": [
    "from operator import attrgetter\n",
    "df_monthly['range_period'] = (df_monthly['year_month'] - df_monthly['cohort']).apply(attrgetter('n')) + 1\n",
    "\n",
    "df_monthly"
   ]
  },
  {
   "cell_type": "markdown",
   "id": "9b700a4b-e3b5-4491-9825-302464515a87",
   "metadata": {},
   "source": [
    "#### Pivot Table"
   ]
  },
  {
   "cell_type": "code",
   "execution_count": 303,
   "id": "ec66ed2d-b653-45a5-89e9-fcec8717eb21",
   "metadata": {},
   "outputs": [
    {
     "data": {
      "text/html": [
       "<div>\n",
       "<style scoped>\n",
       "    .dataframe tbody tr th:only-of-type {\n",
       "        vertical-align: middle;\n",
       "    }\n",
       "\n",
       "    .dataframe tbody tr th {\n",
       "        vertical-align: top;\n",
       "    }\n",
       "\n",
       "    .dataframe thead th {\n",
       "        text-align: right;\n",
       "    }\n",
       "</style>\n",
       "<table border=\"1\" class=\"dataframe\">\n",
       "  <thead>\n",
       "    <tr style=\"text-align: right;\">\n",
       "      <th>range_period</th>\n",
       "      <th>1</th>\n",
       "      <th>2</th>\n",
       "      <th>3</th>\n",
       "      <th>4</th>\n",
       "      <th>5</th>\n",
       "      <th>6</th>\n",
       "      <th>7</th>\n",
       "      <th>8</th>\n",
       "      <th>9</th>\n",
       "      <th>10</th>\n",
       "      <th>11</th>\n",
       "      <th>12</th>\n",
       "    </tr>\n",
       "    <tr>\n",
       "      <th>cohort</th>\n",
       "      <th></th>\n",
       "      <th></th>\n",
       "      <th></th>\n",
       "      <th></th>\n",
       "      <th></th>\n",
       "      <th></th>\n",
       "      <th></th>\n",
       "      <th></th>\n",
       "      <th></th>\n",
       "      <th></th>\n",
       "      <th></th>\n",
       "      <th></th>\n",
       "    </tr>\n",
       "  </thead>\n",
       "  <tbody>\n",
       "    <tr>\n",
       "      <th>2010-01</th>\n",
       "      <td>713.0</td>\n",
       "      <td>280.0</td>\n",
       "      <td>334.0</td>\n",
       "      <td>313.0</td>\n",
       "      <td>305.0</td>\n",
       "      <td>304.0</td>\n",
       "      <td>293.0</td>\n",
       "      <td>268.0</td>\n",
       "      <td>285.0</td>\n",
       "      <td>319.0</td>\n",
       "      <td>335.0</td>\n",
       "      <td>249.0</td>\n",
       "    </tr>\n",
       "    <tr>\n",
       "      <th>2010-02</th>\n",
       "      <td>461.0</td>\n",
       "      <td>154.0</td>\n",
       "      <td>128.0</td>\n",
       "      <td>161.0</td>\n",
       "      <td>152.0</td>\n",
       "      <td>121.0</td>\n",
       "      <td>119.0</td>\n",
       "      <td>159.0</td>\n",
       "      <td>153.0</td>\n",
       "      <td>166.0</td>\n",
       "      <td>100.0</td>\n",
       "      <td>NaN</td>\n",
       "    </tr>\n",
       "    <tr>\n",
       "      <th>2010-03</th>\n",
       "      <td>528.0</td>\n",
       "      <td>146.0</td>\n",
       "      <td>158.0</td>\n",
       "      <td>145.0</td>\n",
       "      <td>140.0</td>\n",
       "      <td>123.0</td>\n",
       "      <td>149.0</td>\n",
       "      <td>186.0</td>\n",
       "      <td>193.0</td>\n",
       "      <td>96.0</td>\n",
       "      <td>NaN</td>\n",
       "      <td>NaN</td>\n",
       "    </tr>\n",
       "    <tr>\n",
       "      <th>2010-04</th>\n",
       "      <td>326.0</td>\n",
       "      <td>82.0</td>\n",
       "      <td>75.0</td>\n",
       "      <td>63.0</td>\n",
       "      <td>69.0</td>\n",
       "      <td>79.0</td>\n",
       "      <td>98.0</td>\n",
       "      <td>101.0</td>\n",
       "      <td>50.0</td>\n",
       "      <td>NaN</td>\n",
       "      <td>NaN</td>\n",
       "      <td>NaN</td>\n",
       "    </tr>\n",
       "    <tr>\n",
       "      <th>2010-05</th>\n",
       "      <td>274.0</td>\n",
       "      <td>55.0</td>\n",
       "      <td>50.0</td>\n",
       "      <td>52.0</td>\n",
       "      <td>52.0</td>\n",
       "      <td>72.0</td>\n",
       "      <td>67.0</td>\n",
       "      <td>43.0</td>\n",
       "      <td>NaN</td>\n",
       "      <td>NaN</td>\n",
       "      <td>NaN</td>\n",
       "      <td>NaN</td>\n",
       "    </tr>\n",
       "    <tr>\n",
       "      <th>2010-06</th>\n",
       "      <td>266.0</td>\n",
       "      <td>53.0</td>\n",
       "      <td>56.0</td>\n",
       "      <td>60.0</td>\n",
       "      <td>65.0</td>\n",
       "      <td>85.0</td>\n",
       "      <td>39.0</td>\n",
       "      <td>NaN</td>\n",
       "      <td>NaN</td>\n",
       "      <td>NaN</td>\n",
       "      <td>NaN</td>\n",
       "      <td>NaN</td>\n",
       "    </tr>\n",
       "    <tr>\n",
       "      <th>2010-07</th>\n",
       "      <td>179.0</td>\n",
       "      <td>38.0</td>\n",
       "      <td>37.0</td>\n",
       "      <td>52.0</td>\n",
       "      <td>53.0</td>\n",
       "      <td>30.0</td>\n",
       "      <td>NaN</td>\n",
       "      <td>NaN</td>\n",
       "      <td>NaN</td>\n",
       "      <td>NaN</td>\n",
       "      <td>NaN</td>\n",
       "      <td>NaN</td>\n",
       "    </tr>\n",
       "    <tr>\n",
       "      <th>2010-08</th>\n",
       "      <td>160.0</td>\n",
       "      <td>35.0</td>\n",
       "      <td>50.0</td>\n",
       "      <td>48.0</td>\n",
       "      <td>27.0</td>\n",
       "      <td>NaN</td>\n",
       "      <td>NaN</td>\n",
       "      <td>NaN</td>\n",
       "      <td>NaN</td>\n",
       "      <td>NaN</td>\n",
       "      <td>NaN</td>\n",
       "      <td>NaN</td>\n",
       "    </tr>\n",
       "    <tr>\n",
       "      <th>2010-09</th>\n",
       "      <td>227.0</td>\n",
       "      <td>64.0</td>\n",
       "      <td>60.0</td>\n",
       "      <td>31.0</td>\n",
       "      <td>NaN</td>\n",
       "      <td>NaN</td>\n",
       "      <td>NaN</td>\n",
       "      <td>NaN</td>\n",
       "      <td>NaN</td>\n",
       "      <td>NaN</td>\n",
       "      <td>NaN</td>\n",
       "      <td>NaN</td>\n",
       "    </tr>\n",
       "    <tr>\n",
       "      <th>2010-10</th>\n",
       "      <td>362.0</td>\n",
       "      <td>103.0</td>\n",
       "      <td>61.0</td>\n",
       "      <td>NaN</td>\n",
       "      <td>NaN</td>\n",
       "      <td>NaN</td>\n",
       "      <td>NaN</td>\n",
       "      <td>NaN</td>\n",
       "      <td>NaN</td>\n",
       "      <td>NaN</td>\n",
       "      <td>NaN</td>\n",
       "      <td>NaN</td>\n",
       "    </tr>\n",
       "    <tr>\n",
       "      <th>2010-11</th>\n",
       "      <td>327.0</td>\n",
       "      <td>66.0</td>\n",
       "      <td>NaN</td>\n",
       "      <td>NaN</td>\n",
       "      <td>NaN</td>\n",
       "      <td>NaN</td>\n",
       "      <td>NaN</td>\n",
       "      <td>NaN</td>\n",
       "      <td>NaN</td>\n",
       "      <td>NaN</td>\n",
       "      <td>NaN</td>\n",
       "      <td>NaN</td>\n",
       "    </tr>\n",
       "    <tr>\n",
       "      <th>2010-12</th>\n",
       "      <td>66.0</td>\n",
       "      <td>NaN</td>\n",
       "      <td>NaN</td>\n",
       "      <td>NaN</td>\n",
       "      <td>NaN</td>\n",
       "      <td>NaN</td>\n",
       "      <td>NaN</td>\n",
       "      <td>NaN</td>\n",
       "      <td>NaN</td>\n",
       "      <td>NaN</td>\n",
       "      <td>NaN</td>\n",
       "      <td>NaN</td>\n",
       "    </tr>\n",
       "  </tbody>\n",
       "</table>\n",
       "</div>"
      ],
      "text/plain": [
       "range_period     1      2      3      4      5      6      7      8      9   \\\n",
       "cohort                                                                        \n",
       "2010-01       713.0  280.0  334.0  313.0  305.0  304.0  293.0  268.0  285.0   \n",
       "2010-02       461.0  154.0  128.0  161.0  152.0  121.0  119.0  159.0  153.0   \n",
       "2010-03       528.0  146.0  158.0  145.0  140.0  123.0  149.0  186.0  193.0   \n",
       "2010-04       326.0   82.0   75.0   63.0   69.0   79.0   98.0  101.0   50.0   \n",
       "2010-05       274.0   55.0   50.0   52.0   52.0   72.0   67.0   43.0    NaN   \n",
       "2010-06       266.0   53.0   56.0   60.0   65.0   85.0   39.0    NaN    NaN   \n",
       "2010-07       179.0   38.0   37.0   52.0   53.0   30.0    NaN    NaN    NaN   \n",
       "2010-08       160.0   35.0   50.0   48.0   27.0    NaN    NaN    NaN    NaN   \n",
       "2010-09       227.0   64.0   60.0   31.0    NaN    NaN    NaN    NaN    NaN   \n",
       "2010-10       362.0  103.0   61.0    NaN    NaN    NaN    NaN    NaN    NaN   \n",
       "2010-11       327.0   66.0    NaN    NaN    NaN    NaN    NaN    NaN    NaN   \n",
       "2010-12        66.0    NaN    NaN    NaN    NaN    NaN    NaN    NaN    NaN   \n",
       "\n",
       "range_period     10     11     12  \n",
       "cohort                             \n",
       "2010-01       319.0  335.0  249.0  \n",
       "2010-02       166.0  100.0    NaN  \n",
       "2010-03        96.0    NaN    NaN  \n",
       "2010-04         NaN    NaN    NaN  \n",
       "2010-05         NaN    NaN    NaN  \n",
       "2010-06         NaN    NaN    NaN  \n",
       "2010-07         NaN    NaN    NaN  \n",
       "2010-08         NaN    NaN    NaN  \n",
       "2010-09         NaN    NaN    NaN  \n",
       "2010-10         NaN    NaN    NaN  \n",
       "2010-11         NaN    NaN    NaN  \n",
       "2010-12         NaN    NaN    NaN  "
      ]
     },
     "execution_count": 303,
     "metadata": {},
     "output_type": "execute_result"
    }
   ],
   "source": [
    "df_pivot = pd.pivot_table(df_monthly, index = 'cohort', columns = 'range_period', \n",
    "                          values = 'customer_id', aggfunc = pd.Series.nunique)\n",
    "df_pivot"
   ]
  },
  {
   "cell_type": "markdown",
   "id": "4328f0a6-c5e9-471b-a735-1f6a1cd429c2",
   "metadata": {},
   "source": [
    "#### Retention Count"
   ]
  },
  {
   "cell_type": "code",
   "execution_count": 306,
   "id": "9b9ed459-4a94-4b93-a3e5-741ad6ba3e5b",
   "metadata": {},
   "outputs": [
    {
     "data": {
      "text/plain": [
       "cohort\n",
       "2010-01    713.0\n",
       "2010-02    461.0\n",
       "2010-03    528.0\n",
       "2010-04    326.0\n",
       "2010-05    274.0\n",
       "2010-06    266.0\n",
       "2010-07    179.0\n",
       "2010-08    160.0\n",
       "2010-09    227.0\n",
       "2010-10    362.0\n",
       "2010-11    327.0\n",
       "2010-12     66.0\n",
       "Freq: M, Name: 1, dtype: float64"
      ]
     },
     "execution_count": 306,
     "metadata": {},
     "output_type": "execute_result"
    }
   ],
   "source": [
    "# Create a list that contain the sum customer first transaction by month\n",
    "cohort = df_pivot.iloc[:, 0]\n",
    "cohort"
   ]
  },
  {
   "cell_type": "code",
   "execution_count": 307,
   "id": "daaf693e-15e9-4d8c-99a7-4b3a64da833a",
   "metadata": {},
   "outputs": [
    {
     "data": {
      "text/html": [
       "<div>\n",
       "<style scoped>\n",
       "    .dataframe tbody tr th:only-of-type {\n",
       "        vertical-align: middle;\n",
       "    }\n",
       "\n",
       "    .dataframe tbody tr th {\n",
       "        vertical-align: top;\n",
       "    }\n",
       "\n",
       "    .dataframe thead th {\n",
       "        text-align: right;\n",
       "    }\n",
       "</style>\n",
       "<table border=\"1\" class=\"dataframe\">\n",
       "  <thead>\n",
       "    <tr style=\"text-align: right;\">\n",
       "      <th>range_period</th>\n",
       "      <th>1</th>\n",
       "      <th>2</th>\n",
       "      <th>3</th>\n",
       "      <th>4</th>\n",
       "      <th>5</th>\n",
       "      <th>6</th>\n",
       "      <th>7</th>\n",
       "      <th>8</th>\n",
       "      <th>9</th>\n",
       "      <th>10</th>\n",
       "      <th>11</th>\n",
       "      <th>12</th>\n",
       "    </tr>\n",
       "    <tr>\n",
       "      <th>cohort</th>\n",
       "      <th></th>\n",
       "      <th></th>\n",
       "      <th></th>\n",
       "      <th></th>\n",
       "      <th></th>\n",
       "      <th></th>\n",
       "      <th></th>\n",
       "      <th></th>\n",
       "      <th></th>\n",
       "      <th></th>\n",
       "      <th></th>\n",
       "      <th></th>\n",
       "    </tr>\n",
       "  </thead>\n",
       "  <tbody>\n",
       "    <tr>\n",
       "      <th>2010-01</th>\n",
       "      <td>1.0</td>\n",
       "      <td>0.392707</td>\n",
       "      <td>0.468443</td>\n",
       "      <td>0.438990</td>\n",
       "      <td>0.427770</td>\n",
       "      <td>0.426367</td>\n",
       "      <td>0.410940</td>\n",
       "      <td>0.375877</td>\n",
       "      <td>0.399719</td>\n",
       "      <td>0.447405</td>\n",
       "      <td>0.469846</td>\n",
       "      <td>0.349229</td>\n",
       "    </tr>\n",
       "    <tr>\n",
       "      <th>2010-02</th>\n",
       "      <td>1.0</td>\n",
       "      <td>0.334056</td>\n",
       "      <td>0.277657</td>\n",
       "      <td>0.349241</td>\n",
       "      <td>0.329718</td>\n",
       "      <td>0.262473</td>\n",
       "      <td>0.258134</td>\n",
       "      <td>0.344902</td>\n",
       "      <td>0.331887</td>\n",
       "      <td>0.360087</td>\n",
       "      <td>0.216920</td>\n",
       "      <td>NaN</td>\n",
       "    </tr>\n",
       "    <tr>\n",
       "      <th>2010-03</th>\n",
       "      <td>1.0</td>\n",
       "      <td>0.276515</td>\n",
       "      <td>0.299242</td>\n",
       "      <td>0.274621</td>\n",
       "      <td>0.265152</td>\n",
       "      <td>0.232955</td>\n",
       "      <td>0.282197</td>\n",
       "      <td>0.352273</td>\n",
       "      <td>0.365530</td>\n",
       "      <td>0.181818</td>\n",
       "      <td>NaN</td>\n",
       "      <td>NaN</td>\n",
       "    </tr>\n",
       "    <tr>\n",
       "      <th>2010-04</th>\n",
       "      <td>1.0</td>\n",
       "      <td>0.251534</td>\n",
       "      <td>0.230061</td>\n",
       "      <td>0.193252</td>\n",
       "      <td>0.211656</td>\n",
       "      <td>0.242331</td>\n",
       "      <td>0.300613</td>\n",
       "      <td>0.309816</td>\n",
       "      <td>0.153374</td>\n",
       "      <td>NaN</td>\n",
       "      <td>NaN</td>\n",
       "      <td>NaN</td>\n",
       "    </tr>\n",
       "    <tr>\n",
       "      <th>2010-05</th>\n",
       "      <td>1.0</td>\n",
       "      <td>0.200730</td>\n",
       "      <td>0.182482</td>\n",
       "      <td>0.189781</td>\n",
       "      <td>0.189781</td>\n",
       "      <td>0.262774</td>\n",
       "      <td>0.244526</td>\n",
       "      <td>0.156934</td>\n",
       "      <td>NaN</td>\n",
       "      <td>NaN</td>\n",
       "      <td>NaN</td>\n",
       "      <td>NaN</td>\n",
       "    </tr>\n",
       "    <tr>\n",
       "      <th>2010-06</th>\n",
       "      <td>1.0</td>\n",
       "      <td>0.199248</td>\n",
       "      <td>0.210526</td>\n",
       "      <td>0.225564</td>\n",
       "      <td>0.244361</td>\n",
       "      <td>0.319549</td>\n",
       "      <td>0.146617</td>\n",
       "      <td>NaN</td>\n",
       "      <td>NaN</td>\n",
       "      <td>NaN</td>\n",
       "      <td>NaN</td>\n",
       "      <td>NaN</td>\n",
       "    </tr>\n",
       "    <tr>\n",
       "      <th>2010-07</th>\n",
       "      <td>1.0</td>\n",
       "      <td>0.212291</td>\n",
       "      <td>0.206704</td>\n",
       "      <td>0.290503</td>\n",
       "      <td>0.296089</td>\n",
       "      <td>0.167598</td>\n",
       "      <td>NaN</td>\n",
       "      <td>NaN</td>\n",
       "      <td>NaN</td>\n",
       "      <td>NaN</td>\n",
       "      <td>NaN</td>\n",
       "      <td>NaN</td>\n",
       "    </tr>\n",
       "    <tr>\n",
       "      <th>2010-08</th>\n",
       "      <td>1.0</td>\n",
       "      <td>0.218750</td>\n",
       "      <td>0.312500</td>\n",
       "      <td>0.300000</td>\n",
       "      <td>0.168750</td>\n",
       "      <td>NaN</td>\n",
       "      <td>NaN</td>\n",
       "      <td>NaN</td>\n",
       "      <td>NaN</td>\n",
       "      <td>NaN</td>\n",
       "      <td>NaN</td>\n",
       "      <td>NaN</td>\n",
       "    </tr>\n",
       "    <tr>\n",
       "      <th>2010-09</th>\n",
       "      <td>1.0</td>\n",
       "      <td>0.281938</td>\n",
       "      <td>0.264317</td>\n",
       "      <td>0.136564</td>\n",
       "      <td>NaN</td>\n",
       "      <td>NaN</td>\n",
       "      <td>NaN</td>\n",
       "      <td>NaN</td>\n",
       "      <td>NaN</td>\n",
       "      <td>NaN</td>\n",
       "      <td>NaN</td>\n",
       "      <td>NaN</td>\n",
       "    </tr>\n",
       "    <tr>\n",
       "      <th>2010-10</th>\n",
       "      <td>1.0</td>\n",
       "      <td>0.284530</td>\n",
       "      <td>0.168508</td>\n",
       "      <td>NaN</td>\n",
       "      <td>NaN</td>\n",
       "      <td>NaN</td>\n",
       "      <td>NaN</td>\n",
       "      <td>NaN</td>\n",
       "      <td>NaN</td>\n",
       "      <td>NaN</td>\n",
       "      <td>NaN</td>\n",
       "      <td>NaN</td>\n",
       "    </tr>\n",
       "    <tr>\n",
       "      <th>2010-11</th>\n",
       "      <td>1.0</td>\n",
       "      <td>0.201835</td>\n",
       "      <td>NaN</td>\n",
       "      <td>NaN</td>\n",
       "      <td>NaN</td>\n",
       "      <td>NaN</td>\n",
       "      <td>NaN</td>\n",
       "      <td>NaN</td>\n",
       "      <td>NaN</td>\n",
       "      <td>NaN</td>\n",
       "      <td>NaN</td>\n",
       "      <td>NaN</td>\n",
       "    </tr>\n",
       "    <tr>\n",
       "      <th>2010-12</th>\n",
       "      <td>1.0</td>\n",
       "      <td>NaN</td>\n",
       "      <td>NaN</td>\n",
       "      <td>NaN</td>\n",
       "      <td>NaN</td>\n",
       "      <td>NaN</td>\n",
       "      <td>NaN</td>\n",
       "      <td>NaN</td>\n",
       "      <td>NaN</td>\n",
       "      <td>NaN</td>\n",
       "      <td>NaN</td>\n",
       "      <td>NaN</td>\n",
       "    </tr>\n",
       "  </tbody>\n",
       "</table>\n",
       "</div>"
      ],
      "text/plain": [
       "range_period   1         2         3         4         5         6         7   \\\n",
       "cohort                                                                          \n",
       "2010-01       1.0  0.392707  0.468443  0.438990  0.427770  0.426367  0.410940   \n",
       "2010-02       1.0  0.334056  0.277657  0.349241  0.329718  0.262473  0.258134   \n",
       "2010-03       1.0  0.276515  0.299242  0.274621  0.265152  0.232955  0.282197   \n",
       "2010-04       1.0  0.251534  0.230061  0.193252  0.211656  0.242331  0.300613   \n",
       "2010-05       1.0  0.200730  0.182482  0.189781  0.189781  0.262774  0.244526   \n",
       "2010-06       1.0  0.199248  0.210526  0.225564  0.244361  0.319549  0.146617   \n",
       "2010-07       1.0  0.212291  0.206704  0.290503  0.296089  0.167598       NaN   \n",
       "2010-08       1.0  0.218750  0.312500  0.300000  0.168750       NaN       NaN   \n",
       "2010-09       1.0  0.281938  0.264317  0.136564       NaN       NaN       NaN   \n",
       "2010-10       1.0  0.284530  0.168508       NaN       NaN       NaN       NaN   \n",
       "2010-11       1.0  0.201835       NaN       NaN       NaN       NaN       NaN   \n",
       "2010-12       1.0       NaN       NaN       NaN       NaN       NaN       NaN   \n",
       "\n",
       "range_period        8         9         10        11        12  \n",
       "cohort                                                          \n",
       "2010-01       0.375877  0.399719  0.447405  0.469846  0.349229  \n",
       "2010-02       0.344902  0.331887  0.360087  0.216920       NaN  \n",
       "2010-03       0.352273  0.365530  0.181818       NaN       NaN  \n",
       "2010-04       0.309816  0.153374       NaN       NaN       NaN  \n",
       "2010-05       0.156934       NaN       NaN       NaN       NaN  \n",
       "2010-06            NaN       NaN       NaN       NaN       NaN  \n",
       "2010-07            NaN       NaN       NaN       NaN       NaN  \n",
       "2010-08            NaN       NaN       NaN       NaN       NaN  \n",
       "2010-09            NaN       NaN       NaN       NaN       NaN  \n",
       "2010-10            NaN       NaN       NaN       NaN       NaN  \n",
       "2010-11            NaN       NaN       NaN       NaN       NaN  \n",
       "2010-12            NaN       NaN       NaN       NaN       NaN  "
      ]
     },
     "execution_count": 307,
     "metadata": {},
     "output_type": "execute_result"
    }
   ],
   "source": [
    "# Divide all the value in df_pivot by the cohort list\n",
    "\n",
    "df_retention = df_pivot.divide(cohort, axis = 0)\n",
    "df_retention"
   ]
  },
  {
   "cell_type": "markdown",
   "id": "6396f678-f578-4485-9435-74e57152e365",
   "metadata": {},
   "source": [
    "#### Visualize"
   ]
  },
  {
   "cell_type": "code",
   "execution_count": 310,
   "id": "e072a596-4205-41f2-9dc8-aa3730b71588",
   "metadata": {},
   "outputs": [
    {
     "data": {
      "image/png": "[encoded data removed]",
      "text/plain": [
       "<Figure size 1200x500 with 3 Axes>"
      ]
     },
     "metadata": {},
     "output_type": "display_data"
    }
   ],
   "source": [
    "import matplotlib.colors as mcolors\n",
    "\n",
    "with sns.axes_style('white'):\n",
    "\n",
    "    fig, ax = plt.subplots(1, 2, figsize = (12, 5), sharey = True, gridspec_kw = {'width_ratios': [1, 11]})\n",
    "\n",
    "    #User Retention\n",
    "    sns.heatmap(df_retention, annot = True, fmt = '.0%', cmap = 'RdYlGn', ax = ax[1])\n",
    "    ax[1].set_title('User Retention')\n",
    "    ax[1].set(xlabel = 'Month Number', ylabel = '')\n",
    "\n",
    "    #Cohort Size\n",
    "    df_cohortSize = pd.DataFrame(cohort)\n",
    "    white_cmap = mcolors.ListedColormap(['white'])\n",
    "    sns.heatmap(df_cohortSize, annot = True, cbar = False, fmt = 'g', cmap = white_cmap, ax = ax[0])\n",
    "    ax[0].tick_params(bottom = False)\n",
    "    ax[0].set(xlabel = 'Cohort Size', ylabel = 'Month Of The First Order', xticklabels = [])\n",
    "\n",
    "    fig.tight_layout()"
   ]
  },
  {
   "cell_type": "markdown",
   "id": "5e281637-0db8-4aed-9eeb-c6324554ff8c",
   "metadata": {},
   "source": [
    "Berdasarkan heatmap diatas, pertama kali transaksi paling banyak terjadi di bulan Januari dengan jumlah customer sebesar 713 orang. Customer ini juga paling banyak berbelanja kembali dibulan ke-2 dengan nilai retention rate yaitu 39%. Customer yang pertama kali berbelanja dibulan Januari ini memiliki retention rate (kembali berbelanja dibulan-bulan berikutnya) tertinggi dibanding customer dibulan berikutnya dengan rata-rata retention rate ±40%.\n",
    "\n",
    "Tetapi hal ini menunjukkan bahwa cukup banyak customer yang tidak berbelanja kembali, dapat dilihat bahwa retention rate tidak ada yang menyentuh 50%. Terutama retention rate pada bulan Desember menjadi terendah dibanding bulan-bulan sebelumnya. Kecilnya retention rate dibulan ini mungkin dikarenakan libur panjang sehingga banyak customer tidak berbelanja dibulan desember."
   ]
  },
  {
   "cell_type": "code",
   "execution_count": null,
   "id": "bd4e46d7-8392-4ed5-9113-2d906a17bf9c",
   "metadata": {},
   "outputs": [],
   "source": []
  }
 ],
 "metadata": {
  "kernelspec": {
   "display_name": "Python 3 (ipykernel)",
   "language": "python",
   "name": "python3"
  },
  "language_info": {
   "codemirror_mode": {
    "name": "ipython",
    "version": 3
   },
   "file_extension": ".py",
   "mimetype": "text/x-python",
   "name": "python",
   "nbconvert_exporter": "python",
   "pygments_lexer": "ipython3",
   "version": "3.12.2"
  }
 },
 "nbformat": 4,
 "nbformat_minor": 5
}
